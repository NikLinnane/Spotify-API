{
  "nbformat": 4,
  "nbformat_minor": 0,
  "metadata": {
    "colab": {
      "name": "Hungry Guys Radio Spotify Analysis",
      "provenance": [],
      "collapsed_sections": []
    },
    "kernelspec": {
      "name": "python3",
      "display_name": "Python 3"
    },
    "language_info": {
      "name": "python"
    }
  },
  "cells": [
    {
      "cell_type": "markdown",
      "metadata": {
        "id": "qy5I2H-wnpLV"
      },
      "source": [
        "# **\"Hungry Guys Radio\" Playlist Analysis**\n",
        "\n",
        "---\n",
        "\n",
        "\n",
        "***Who:*** *Hungry Guys Radio is a collaborative Spotify playlist contributed to by Jack Murphy, Conor Wylock, Ian Hinojosa and myself.*\n",
        "\n",
        "***What:*** *The goal of this analysis is to sharpen my data science skills but more importantly highlight how mine and my pals' music preferences may differ and profile our (fantastic) playlist as a whole.*\n",
        "\n",
        "***Why:*** *Whenever I listen to Hungry Guys Radio I feel I'm able to guess which of us added the currently playing song to the playlist with close to 80% accuracy (never actually tested this accuracy). This led me to think about our different tastes in music and how I could use my data science skills to actually quantify and visualize these differences.*\n",
        "\n",
        "***How:*** *For this project I will of course need to utilize Spotipy (Spotify's API) to access the data and Python to clean and visualize the dataset.*\n",
        "\n",
        "\n",
        "---\n",
        "\n"
      ]
    },
    {
      "cell_type": "markdown",
      "metadata": {
        "id": "YDuFhvVLnj1H"
      },
      "source": [
        "## **Phase 1: Data Extraction**"
      ]
    },
    {
      "cell_type": "markdown",
      "metadata": {
        "id": "egPwEbRSir3L"
      },
      "source": [
        "Connect To Spotify API (Spotipy) & Autenticate"
      ]
    },
    {
      "cell_type": "code",
      "metadata": {
        "id": "Cuj5n86qiu-o"
      },
      "source": [
        "#!pip install spotipy --upgrade -q\n",
        "import spotipy\n",
        "from spotipy.oauth2 import SpotifyClientCredentials\n",
        "import pandas as pd\n",
        "\n",
        "# authorization\n",
        "cid = '13f76c00d24446ecba764958bf07fc9e'\n",
        "secret = 'c2bac37f194441efb4c607a7f1ffe20f'\n",
        "\n",
        "client_credentials_manager = SpotifyClientCredentials(client_id=cid, client_secret=secret)\n",
        "sp = spotipy.Spotify(client_credentials_manager = client_credentials_manager)"
      ],
      "execution_count": null,
      "outputs": []
    },
    {
      "cell_type": "markdown",
      "metadata": {
        "id": "yZsdQ02ijEGH"
      },
      "source": [
        "We'll need a function to do a few things...\n",
        "\n",
        "*   Call the Spotipy API and access a given playlist URL\n",
        "*   Iterate over each song within the playlist and extract wanted song and playlist metrics\n",
        "*   In order to work around Spotipy's limit of pulling a maximum of 100 songs at once, the function will need to accept \"limit\" and \"offset\" paramaters to shift the starting point at each call\n",
        "\n",
        "\n"
      ]
    },
    {
      "cell_type": "code",
      "metadata": {
        "id": "j8wsarIPjAiz"
      },
      "source": [
        "# function to loop through a playlist and grab information on each song\n",
        "def call_playlist(creator_id, playlist_url, limit, offset):\n",
        "    # NOTE: use playlist_url instead of playlist_id. playlist_id doesn't accept limit and offset parameters for some reason?\n",
        "    \n",
        "    # create an empty list and an empty df\n",
        "    playlist_features_list = ['artist', 'album', 'track_name', 'track_id', 'danceability', 'energy', 'key', 'loudness', 'mode', \n",
        "                              'speechiness', 'instrumentalness', 'liveness', 'valence', 'tempo', 'duration_ms', 'time_signature', 'acousticness']\n",
        "    playlist_df = pd.DataFrame(columns = playlist_features_list)\n",
        "    \n",
        "    # loop through the specified playlist and extract wanted features\n",
        "    playlist = sp.user_playlist_tracks(creator_id, playlist_url, limit=limit, offset=offset)[\"items\"]\n",
        "    for track in playlist:\n",
        "\n",
        "        # create empty dict\n",
        "        playlist_features = {}\n",
        "\n",
        "        # get metadata\n",
        "        playlist_features['artist'] = track['track']['album']['artists'][0]['name']\n",
        "        playlist_features['album'] = track['track']['album']['name']\n",
        "        playlist_features[\"track_name\"] = track[\"track\"][\"name\"]\n",
        "        playlist_features[\"track_id\"] = track[\"track\"][\"id\"]\n",
        "        playlist_features[\"explicit\"] = track[\"track\"][\"explicit\"]\n",
        "        playlist_features[\"popularity\"] = track[\"track\"][\"popularity\"]\n",
        "        playlist_features[\"album_release_date\"] = track[\"track\"][\"album\"][\"release_date\"]\n",
        "        playlist_features[\"duration_ms\"] = track[\"track\"][\"duration_ms\"]\n",
        "        playlist_features['added_by'] = track[\"added_by\"][\"id\"]\n",
        "        playlist_features['added_at'] = track[\"added_at\"]\n",
        "        \n",
        "        # get audio features\n",
        "        audio_features = sp.audio_features(playlist_features[\"track_id\"])[0]\n",
        "        for feature in playlist_features_list[4:]:\n",
        "            playlist_features[feature] = audio_features[feature]\n",
        "        \n",
        "        # concat dfs\n",
        "        track_df = pd.DataFrame(playlist_features, index = [0])\n",
        "        playlist_df = pd.concat([playlist_df, track_df], ignore_index = True)\n",
        "\n",
        "    # return df\n",
        "    return playlist_df"
      ],
      "execution_count": null,
      "outputs": []
    },
    {
      "cell_type": "markdown",
      "metadata": {
        "id": "CB5gD27ykSl_"
      },
      "source": [
        "Now we can call the function however many times we need to in order to pull all songs! In the case of Hungry Guys Radio there are currently 270 songs so we'll need to call 3 times, each time adding 100 to the offset."
      ]
    },
    {
      "cell_type": "code",
      "metadata": {
        "id": "wftgYjGckQsT"
      },
      "source": [
        "# songs 1-100 requires an offset of 0 since we want to start at the first song\n",
        "first100 = call_playlist('nik-linnane', 'https://open.spotify.com/playlist/4PNAiZyW8o758BtoIRwwFR', 100, 0)\n",
        "\n",
        "# songs 101-200 requires an offset of 100\n",
        "second100 = call_playlist('nik-linnane', 'https://open.spotify.com/playlist/4PNAiZyW8o758BtoIRwwFR', 100, 100)\n",
        "\n",
        "# songs 201-270 requires an offset of 200\n",
        "third100 = call_playlist('nik-linnane', 'https://open.spotify.com/playlist/4PNAiZyW8o758BtoIRwwFR', 100, 200)"
      ],
      "execution_count": null,
      "outputs": []
    },
    {
      "cell_type": "markdown",
      "metadata": {
        "id": "Upzg1wwJlrVM"
      },
      "source": [
        "Now that we have all songs within the playlist stored in 3 dataframes we can concat them to create our complete dataset"
      ]
    },
    {
      "cell_type": "code",
      "metadata": {
        "colab": {
          "base_uri": "https://localhost:8080/",
          "height": 300
        },
        "id": "FuDPekGdl7GO",
        "outputId": "1b9f266b-c80e-488e-c998-2737326b99df"
      },
      "source": [
        "hungryGuysRadio = pd.concat([first100, second100, third100], ignore_index = True)\n",
        "hungryGuysRadio.describe()"
      ],
      "execution_count": null,
      "outputs": [
        {
          "output_type": "execute_result",
          "data": {
            "text/html": [
              "<div>\n",
              "<style scoped>\n",
              "    .dataframe tbody tr th:only-of-type {\n",
              "        vertical-align: middle;\n",
              "    }\n",
              "\n",
              "    .dataframe tbody tr th {\n",
              "        vertical-align: top;\n",
              "    }\n",
              "\n",
              "    .dataframe thead th {\n",
              "        text-align: right;\n",
              "    }\n",
              "</style>\n",
              "<table border=\"1\" class=\"dataframe\">\n",
              "  <thead>\n",
              "    <tr style=\"text-align: right;\">\n",
              "      <th></th>\n",
              "      <th>danceability</th>\n",
              "      <th>energy</th>\n",
              "      <th>loudness</th>\n",
              "      <th>speechiness</th>\n",
              "      <th>liveness</th>\n",
              "      <th>valence</th>\n",
              "      <th>tempo</th>\n",
              "      <th>acousticness</th>\n",
              "      <th>popularity</th>\n",
              "    </tr>\n",
              "  </thead>\n",
              "  <tbody>\n",
              "    <tr>\n",
              "      <th>count</th>\n",
              "      <td>270.000000</td>\n",
              "      <td>270.000000</td>\n",
              "      <td>270.000000</td>\n",
              "      <td>270.000000</td>\n",
              "      <td>270.000000</td>\n",
              "      <td>270.000000</td>\n",
              "      <td>270.000000</td>\n",
              "      <td>270.000000</td>\n",
              "      <td>270.000000</td>\n",
              "    </tr>\n",
              "    <tr>\n",
              "      <th>mean</th>\n",
              "      <td>0.630241</td>\n",
              "      <td>0.713848</td>\n",
              "      <td>-6.503252</td>\n",
              "      <td>0.071135</td>\n",
              "      <td>0.167330</td>\n",
              "      <td>0.642364</td>\n",
              "      <td>117.524193</td>\n",
              "      <td>0.203233</td>\n",
              "      <td>43.696296</td>\n",
              "    </tr>\n",
              "    <tr>\n",
              "      <th>std</th>\n",
              "      <td>0.126242</td>\n",
              "      <td>0.139359</td>\n",
              "      <td>2.259506</td>\n",
              "      <td>0.074803</td>\n",
              "      <td>0.135131</td>\n",
              "      <td>0.225001</td>\n",
              "      <td>27.709648</td>\n",
              "      <td>0.220262</td>\n",
              "      <td>24.613525</td>\n",
              "    </tr>\n",
              "    <tr>\n",
              "      <th>min</th>\n",
              "      <td>0.221000</td>\n",
              "      <td>0.330000</td>\n",
              "      <td>-17.032000</td>\n",
              "      <td>0.022800</td>\n",
              "      <td>0.022200</td>\n",
              "      <td>0.075800</td>\n",
              "      <td>67.055000</td>\n",
              "      <td>0.000015</td>\n",
              "      <td>0.000000</td>\n",
              "    </tr>\n",
              "    <tr>\n",
              "      <th>25%</th>\n",
              "      <td>0.556250</td>\n",
              "      <td>0.633750</td>\n",
              "      <td>-7.616750</td>\n",
              "      <td>0.034925</td>\n",
              "      <td>0.086575</td>\n",
              "      <td>0.482000</td>\n",
              "      <td>97.944250</td>\n",
              "      <td>0.029625</td>\n",
              "      <td>34.250000</td>\n",
              "    </tr>\n",
              "    <tr>\n",
              "      <th>50%</th>\n",
              "      <td>0.635500</td>\n",
              "      <td>0.720500</td>\n",
              "      <td>-6.261500</td>\n",
              "      <td>0.045050</td>\n",
              "      <td>0.111000</td>\n",
              "      <td>0.672000</td>\n",
              "      <td>112.961500</td>\n",
              "      <td>0.109000</td>\n",
              "      <td>51.000000</td>\n",
              "    </tr>\n",
              "    <tr>\n",
              "      <th>75%</th>\n",
              "      <td>0.713500</td>\n",
              "      <td>0.816750</td>\n",
              "      <td>-4.852500</td>\n",
              "      <td>0.068225</td>\n",
              "      <td>0.206000</td>\n",
              "      <td>0.838750</td>\n",
              "      <td>126.967750</td>\n",
              "      <td>0.350500</td>\n",
              "      <td>61.000000</td>\n",
              "    </tr>\n",
              "    <tr>\n",
              "      <th>max</th>\n",
              "      <td>0.974000</td>\n",
              "      <td>0.982000</td>\n",
              "      <td>-1.866000</td>\n",
              "      <td>0.567000</td>\n",
              "      <td>0.912000</td>\n",
              "      <td>0.978000</td>\n",
              "      <td>210.164000</td>\n",
              "      <td>0.891000</td>\n",
              "      <td>90.000000</td>\n",
              "    </tr>\n",
              "  </tbody>\n",
              "</table>\n",
              "</div>"
            ],
            "text/plain": [
              "       danceability      energy  ...  acousticness  popularity\n",
              "count    270.000000  270.000000  ...    270.000000  270.000000\n",
              "mean       0.630241    0.713848  ...      0.203233   43.696296\n",
              "std        0.126242    0.139359  ...      0.220262   24.613525\n",
              "min        0.221000    0.330000  ...      0.000015    0.000000\n",
              "25%        0.556250    0.633750  ...      0.029625   34.250000\n",
              "50%        0.635500    0.720500  ...      0.109000   51.000000\n",
              "75%        0.713500    0.816750  ...      0.350500   61.000000\n",
              "max        0.974000    0.982000  ...      0.891000   90.000000\n",
              "\n",
              "[8 rows x 9 columns]"
            ]
          },
          "metadata": {},
          "execution_count": 4
        }
      ]
    },
    {
      "cell_type": "markdown",
      "metadata": {
        "id": "sssrX83Erz15"
      },
      "source": [
        "## **Phase 2: Data Cleaning**\n",
        "\n",
        "*   added_date: clean formatting\n",
        "*   album_release_date: ensure formatting\n",
        "*   duration_ms: convert to minutes\n",
        "*   added_by: convert id to name\n"
      ]
    },
    {
      "cell_type": "code",
      "metadata": {
        "id": "S6epp7Oa1gtf"
      },
      "source": [
        "# convert existing columns to datetime\n",
        "hungryGuysRadio['added_at'] = pd.to_datetime(hungryGuysRadio['added_at'], errors='coerce')\n",
        "hungryGuysRadio['album_release_date'] = pd.to_datetime(hungryGuysRadio['album_release_date'], errors='coerce')\n",
        "\n",
        "# create new date_added column by removing time zone and time info\n",
        "hungryGuysRadio['date_added'] = hungryGuysRadio['added_at'].dt.tz_localize(None)\n",
        "hungryGuysRadio['date_added'] = pd.to_datetime(hungryGuysRadio['added_at']).dt.date\n",
        "\n",
        "# create new duration_min column by converting ms to minutes\n",
        "hungryGuysRadio['duration_min'] = hungryGuysRadio['duration_ms']/60000\n",
        "\n",
        "# create new user columns by converting id to names\n",
        "hungryGuysRadio['user'] = hungryGuysRadio['added_by'].apply(lambda x : 'Jack' if x == 'murphycfp' else (\n",
        "                                                                       'Nik' if x == 'nik-linnane' else (\n",
        "                                                                       'Ian' if x == '65jhgcs8ihtvs5pl09xqrgul5' else \n",
        "                                                                       'Conor')))\n",
        "\n",
        "# convert explicit to binary\n",
        "hungryGuysRadio['explicit'] = hungryGuysRadio['explicit'].apply(lambda x : 1 if x == True else 0)"
      ],
      "execution_count": null,
      "outputs": []
    },
    {
      "cell_type": "code",
      "metadata": {
        "colab": {
          "base_uri": "https://localhost:8080/",
          "height": 268
        },
        "id": "qVLlBYQu6Q6O",
        "outputId": "9c491438-1c8a-4816-85ad-a75af3c761f4"
      },
      "source": [
        "hungryGuysRadio.head(3)"
      ],
      "execution_count": null,
      "outputs": [
        {
          "output_type": "execute_result",
          "data": {
            "text/html": [
              "<div>\n",
              "<style scoped>\n",
              "    .dataframe tbody tr th:only-of-type {\n",
              "        vertical-align: middle;\n",
              "    }\n",
              "\n",
              "    .dataframe tbody tr th {\n",
              "        vertical-align: top;\n",
              "    }\n",
              "\n",
              "    .dataframe thead th {\n",
              "        text-align: right;\n",
              "    }\n",
              "</style>\n",
              "<table border=\"1\" class=\"dataframe\">\n",
              "  <thead>\n",
              "    <tr style=\"text-align: right;\">\n",
              "      <th></th>\n",
              "      <th>artist</th>\n",
              "      <th>album</th>\n",
              "      <th>track_name</th>\n",
              "      <th>track_id</th>\n",
              "      <th>danceability</th>\n",
              "      <th>energy</th>\n",
              "      <th>key</th>\n",
              "      <th>loudness</th>\n",
              "      <th>mode</th>\n",
              "      <th>speechiness</th>\n",
              "      <th>instrumentalness</th>\n",
              "      <th>liveness</th>\n",
              "      <th>valence</th>\n",
              "      <th>tempo</th>\n",
              "      <th>duration_ms</th>\n",
              "      <th>time_signature</th>\n",
              "      <th>acousticness</th>\n",
              "      <th>explicit</th>\n",
              "      <th>popularity</th>\n",
              "      <th>album_release_date</th>\n",
              "      <th>added_by</th>\n",
              "      <th>added_at</th>\n",
              "      <th>date_added</th>\n",
              "      <th>duration_min</th>\n",
              "      <th>user</th>\n",
              "    </tr>\n",
              "  </thead>\n",
              "  <tbody>\n",
              "    <tr>\n",
              "      <th>0</th>\n",
              "      <td>BØRNS</td>\n",
              "      <td>Dopamine</td>\n",
              "      <td>Electric Love</td>\n",
              "      <td>2GiJYvgVaD2HtM8GqD9EgQ</td>\n",
              "      <td>0.611</td>\n",
              "      <td>0.797</td>\n",
              "      <td>6</td>\n",
              "      <td>-7.627</td>\n",
              "      <td>0</td>\n",
              "      <td>0.0533</td>\n",
              "      <td>0.00137</td>\n",
              "      <td>0.2600</td>\n",
              "      <td>0.518</td>\n",
              "      <td>120.041</td>\n",
              "      <td>218107</td>\n",
              "      <td>4</td>\n",
              "      <td>0.00543</td>\n",
              "      <td>0</td>\n",
              "      <td>82.0</td>\n",
              "      <td>2015-10-16</td>\n",
              "      <td>murphycfp</td>\n",
              "      <td>2019-09-19 03:46:17+00:00</td>\n",
              "      <td>2019-09-19</td>\n",
              "      <td>3.63512</td>\n",
              "      <td>Jack</td>\n",
              "    </tr>\n",
              "    <tr>\n",
              "      <th>1</th>\n",
              "      <td>Edward Sharpe &amp; The Magnetic Zeros</td>\n",
              "      <td>Up from Below</td>\n",
              "      <td>Janglin</td>\n",
              "      <td>3TgopD2FOwjZBq0YrhbEN4</td>\n",
              "      <td>0.578</td>\n",
              "      <td>0.688</td>\n",
              "      <td>6</td>\n",
              "      <td>-6.551</td>\n",
              "      <td>0</td>\n",
              "      <td>0.0540</td>\n",
              "      <td>5.98e-05</td>\n",
              "      <td>0.3050</td>\n",
              "      <td>0.360</td>\n",
              "      <td>123.910</td>\n",
              "      <td>229600</td>\n",
              "      <td>4</td>\n",
              "      <td>0.63200</td>\n",
              "      <td>0</td>\n",
              "      <td>37.0</td>\n",
              "      <td>2009-07-14</td>\n",
              "      <td>murphycfp</td>\n",
              "      <td>2019-09-19 03:50:02+00:00</td>\n",
              "      <td>2019-09-19</td>\n",
              "      <td>3.82667</td>\n",
              "      <td>Jack</td>\n",
              "    </tr>\n",
              "    <tr>\n",
              "      <th>2</th>\n",
              "      <td>Goth Babe</td>\n",
              "      <td>Weekend Friend</td>\n",
              "      <td>Weekend Friend</td>\n",
              "      <td>2d3QlXE6FXFDeodiS66yjM</td>\n",
              "      <td>0.409</td>\n",
              "      <td>0.594</td>\n",
              "      <td>1</td>\n",
              "      <td>-9.725</td>\n",
              "      <td>1</td>\n",
              "      <td>0.0310</td>\n",
              "      <td>0.0391</td>\n",
              "      <td>0.0904</td>\n",
              "      <td>0.212</td>\n",
              "      <td>110.187</td>\n",
              "      <td>209455</td>\n",
              "      <td>4</td>\n",
              "      <td>0.03200</td>\n",
              "      <td>0</td>\n",
              "      <td>67.0</td>\n",
              "      <td>2019-01-19</td>\n",
              "      <td>murphycfp</td>\n",
              "      <td>2019-09-19 04:01:40+00:00</td>\n",
              "      <td>2019-09-19</td>\n",
              "      <td>3.49092</td>\n",
              "      <td>Jack</td>\n",
              "    </tr>\n",
              "  </tbody>\n",
              "</table>\n",
              "</div>"
            ],
            "text/plain": [
              "                               artist           album  ... duration_min  user\n",
              "0                               BØRNS        Dopamine  ...      3.63512  Jack\n",
              "1  Edward Sharpe & The Magnetic Zeros   Up from Below  ...      3.82667  Jack\n",
              "2                           Goth Babe  Weekend Friend  ...      3.49092  Jack\n",
              "\n",
              "[3 rows x 25 columns]"
            ]
          },
          "metadata": {},
          "execution_count": 6
        }
      ]
    },
    {
      "cell_type": "code",
      "metadata": {
        "colab": {
          "base_uri": "https://localhost:8080/",
          "height": 17
        },
        "id": "VSyLwRHe_d4b",
        "outputId": "16a00cc7-d539-45a5-8900-90af0403d5c9"
      },
      "source": [
        "from google.colab import files\n",
        "hungryGuysRadio.to_csv('hungryGuysRadio.csv')\n",
        "files.download('hungryGuysRadio.csv')"
      ],
      "execution_count": null,
      "outputs": [
        {
          "output_type": "display_data",
          "data": {
            "application/javascript": [
              "\n",
              "    async function download(id, filename, size) {\n",
              "      if (!google.colab.kernel.accessAllowed) {\n",
              "        return;\n",
              "      }\n",
              "      const div = document.createElement('div');\n",
              "      const label = document.createElement('label');\n",
              "      label.textContent = `Downloading \"${filename}\": `;\n",
              "      div.appendChild(label);\n",
              "      const progress = document.createElement('progress');\n",
              "      progress.max = size;\n",
              "      div.appendChild(progress);\n",
              "      document.body.appendChild(div);\n",
              "\n",
              "      const buffers = [];\n",
              "      let downloaded = 0;\n",
              "\n",
              "      const channel = await google.colab.kernel.comms.open(id);\n",
              "      // Send a message to notify the kernel that we're ready.\n",
              "      channel.send({})\n",
              "\n",
              "      for await (const message of channel.messages) {\n",
              "        // Send a message to notify the kernel that we're ready.\n",
              "        channel.send({})\n",
              "        if (message.buffers) {\n",
              "          for (const buffer of message.buffers) {\n",
              "            buffers.push(buffer);\n",
              "            downloaded += buffer.byteLength;\n",
              "            progress.value = downloaded;\n",
              "          }\n",
              "        }\n",
              "      }\n",
              "      const blob = new Blob(buffers, {type: 'application/binary'});\n",
              "      const a = document.createElement('a');\n",
              "      a.href = window.URL.createObjectURL(blob);\n",
              "      a.download = filename;\n",
              "      div.appendChild(a);\n",
              "      a.click();\n",
              "      div.remove();\n",
              "    }\n",
              "  "
            ],
            "text/plain": [
              "<IPython.core.display.Javascript object>"
            ]
          },
          "metadata": {}
        },
        {
          "output_type": "display_data",
          "data": {
            "application/javascript": [
              "download(\"download_a73ca22e-1987-41ee-aa3a-621ec839b0af\", \"hungryGuysRadio.csv\", 61947)"
            ],
            "text/plain": [
              "<IPython.core.display.Javascript object>"
            ]
          },
          "metadata": {}
        }
      ]
    },
    {
      "cell_type": "markdown",
      "metadata": {
        "id": "JEREjESA7xsk"
      },
      "source": [
        "## **Phase 3: Exploratory Data Analysis**\n",
        "Now we can start digging into the data and looking for insights we might want to look into deeper!\n",
        "\n",
        "**Data Dictionary...**\n",
        "\n",
        "***Artist:*** *artist of the given track.*\n",
        "\n",
        "***Album:*** *album that the given track is off of.*\n",
        "\n",
        "***Track_name:*** *name of the given track.*\n",
        "\n",
        "***Track_id:*** *Spotify's identifier for the given track.*\n",
        "\n",
        "***Danceability:*** *describes how suitable a track is for dancing based on a combination of musical elements including tempo, rhythm stability, beat strength, and overall regularity. A value of 0.0 is least danceable and 1.0 is most danceable.*\n",
        "\n",
        "***Energy:*** *represents a perceptual measure of intensity and activity. Typically, energetic tracks feel fast, loud, and noisy.*\n",
        "\n",
        "**Key:** *the key that the given track is played in.*\n",
        "\n",
        "***Loudness:*** *overall loudness of a track in decibels (dB). Loudness values are averaged across the entire track. Values typical range between -60 and 0 db.*\n",
        "\n",
        "***Mode:*** *unsure.*\n",
        "\n",
        "***Speechiness:*** *detects the presence of spoken words in a track. If the speechiness of a song is above 0.66, it is probably made of spoken words, a score between 0.33 and 0.66 is a song that may contain both music and words, and a score below 0.33 means the song does not have any speech.*\n",
        "\n",
        "***Instrumentalness:*** *represents the amount of vocals in the song. The closer it is to 1.0, the more instrumental the song is.*\n",
        "\n",
        "***Liveness:*** *describes the probability that the song was recorded with a live audience. According to the official documentation “a value above 0.8 provides strong likelihood that the track is live”.*\n",
        "\n",
        "***Valence:*** *measure from 0.0 to 1.0 describing the musical positiveness conveyed by a track. Tracks with high valence sound more positive (e.g. happy, cheerful, euphoric), while tracks with low valence sound more negative (e.g. sad, depressed, angry).*\n",
        "\n",
        "***Tempo:*** *the tempo of the given track in bpm.*\n",
        "\n",
        "***Duration_ms:*** *duration of the song in milliseconds.*\n",
        "\n",
        "***Time_signature:*** *time signature of the given track.*\n",
        "\n",
        "***Acousticness:*** *describes how acoustic a song is. A score of 1.0 means the song is most likely to be an acoustic one.*\n",
        "\n",
        "***Explicit:*** *whether or not the given track contains explicit language.*\n",
        "\n",
        "***Popularity:*** *how popular the given track is. Scores range from 0 to 100.*\n",
        "\n",
        "***Album_release_date:*** *date the album of the given track was released.*\n",
        "\n",
        "***Added_by:*** *who added the given track to the playlist.*\n",
        "\n",
        "***Date_added:*** *the date the given track was added to the playlist.*\n",
        "\n",
        "***Duration_min:*** *duration of the given track in minutes.*\n",
        "\n",
        "***User:*** *username of who added the given track to the playlist.*\n",
        "\n",
        "\n",
        "\n",
        "\n",
        "\n",
        "\n",
        "\n",
        "\n",
        "\n"
      ]
    },
    {
      "cell_type": "code",
      "metadata": {
        "colab": {
          "base_uri": "https://localhost:8080/"
        },
        "id": "siHGm2DS7xPo",
        "outputId": "c4e7ab9e-6cfe-4d82-cc0d-0ad5c44c014d"
      },
      "source": [
        "# who has added the most songs to the playlist?\n",
        "  # makes sense it's Jack since he did initially create the playlist\n",
        "  # however, why has Ian only added 7 songs? maybe he's very thoughtful behind how he contributes to the vibes? how do these 7 songs compares to the playlist as a whole?\n",
        "hungryGuysRadio.user.value_counts()"
      ],
      "execution_count": null,
      "outputs": [
        {
          "output_type": "execute_result",
          "data": {
            "text/plain": [
              "Jack     159\n",
              "Conor     63\n",
              "Nik       41\n",
              "Ian        7\n",
              "Name: user, dtype: int64"
            ]
          },
          "metadata": {},
          "execution_count": 9
        }
      ]
    },
    {
      "cell_type": "code",
      "metadata": {
        "colab": {
          "base_uri": "https://localhost:8080/"
        },
        "id": "nVZxaiZE8D1E",
        "outputId": "7b119356-6367-410e-8306-f8e6ba82bf7a"
      },
      "source": [
        "# how many different artists are on this playlist?\n",
        "print('Unique artists: ', len(pd.unique(hungryGuysRadio.artist)))\n",
        "\n",
        "# how many different albums?\n",
        "print('Unique albums: ', len(pd.unique(hungryGuysRadio.album)))\n",
        "print()\n",
        "\n",
        "# mostly clean or explicit?\n",
        "print('Explicit songs: ', hungryGuysRadio.explicit.value_counts()[1])\n",
        "print('Clean songs: ', hungryGuysRadio.explicit.value_counts()[0])\n",
        "print()\n",
        "\n",
        "# on average how long is each song?\n",
        "print('Average song duration: ', hungryGuysRadio.duration_min.mean().round(2), 'minutes')\n",
        "\n",
        "# how long is the entire playlist?\n",
        "print('Playlist duration: ', round(hungryGuysRadio.duration_min.sum(), 2), 'minutes')\n",
        "\n",
        "# how many songs are on the playlist?\n",
        "print('Number of songs: ', len(hungryGuysRadio))"
      ],
      "execution_count": null,
      "outputs": [
        {
          "output_type": "stream",
          "name": "stdout",
          "text": [
            "Unique artists:  221\n",
            "Unique albums:  257\n",
            "\n",
            "Explicit songs:  30\n",
            "Clean songs:  240\n",
            "\n",
            "Average song duration:  3.78 minutes\n",
            "Playlist duration:  1021.02 minutes\n",
            "Number of songs:  270\n"
          ]
        }
      ]
    },
    {
      "cell_type": "code",
      "metadata": {
        "colab": {
          "base_uri": "https://localhost:8080/",
          "height": 206
        },
        "id": "_q-XdyD68D7q",
        "outputId": "ec5d2633-423c-4a04-cf3b-e7b1a35334a7"
      },
      "source": [
        "# which artists have the most popular tracks within the playlist?\n",
        "hungryGuysRadio.groupby(['artist', 'track_name'], as_index=False)['popularity'].mean().sort_values(by='popularity', ascending=False)[:5]"
      ],
      "execution_count": null,
      "outputs": [
        {
          "output_type": "execute_result",
          "data": {
            "text/html": [
              "<div>\n",
              "<style scoped>\n",
              "    .dataframe tbody tr th:only-of-type {\n",
              "        vertical-align: middle;\n",
              "    }\n",
              "\n",
              "    .dataframe tbody tr th {\n",
              "        vertical-align: top;\n",
              "    }\n",
              "\n",
              "    .dataframe thead th {\n",
              "        text-align: right;\n",
              "    }\n",
              "</style>\n",
              "<table border=\"1\" class=\"dataframe\">\n",
              "  <thead>\n",
              "    <tr style=\"text-align: right;\">\n",
              "      <th></th>\n",
              "      <th>artist</th>\n",
              "      <th>track_name</th>\n",
              "      <th>popularity</th>\n",
              "    </tr>\n",
              "  </thead>\n",
              "  <tbody>\n",
              "    <tr>\n",
              "      <th>60</th>\n",
              "      <td>Elton John</td>\n",
              "      <td>Cold Heart - PNAU Remix</td>\n",
              "      <td>90.0</td>\n",
              "    </tr>\n",
              "    <tr>\n",
              "      <th>81</th>\n",
              "      <td>Glass Animals</td>\n",
              "      <td>Heat Waves</td>\n",
              "      <td>87.0</td>\n",
              "    </tr>\n",
              "    <tr>\n",
              "      <th>49</th>\n",
              "      <td>Dua Lipa</td>\n",
              "      <td>Levitating</td>\n",
              "      <td>85.0</td>\n",
              "    </tr>\n",
              "    <tr>\n",
              "      <th>27</th>\n",
              "      <td>BØRNS</td>\n",
              "      <td>Electric Love</td>\n",
              "      <td>82.0</td>\n",
              "    </tr>\n",
              "    <tr>\n",
              "      <th>179</th>\n",
              "      <td>Ritt Momney</td>\n",
              "      <td>Put Your Records On</td>\n",
              "      <td>80.0</td>\n",
              "    </tr>\n",
              "  </tbody>\n",
              "</table>\n",
              "</div>"
            ],
            "text/plain": [
              "            artist               track_name  popularity\n",
              "60      Elton John  Cold Heart - PNAU Remix        90.0\n",
              "81   Glass Animals               Heat Waves        87.0\n",
              "49        Dua Lipa               Levitating        85.0\n",
              "27           BØRNS            Electric Love        82.0\n",
              "179    Ritt Momney      Put Your Records On        80.0"
            ]
          },
          "metadata": {},
          "execution_count": 11
        }
      ]
    },
    {
      "cell_type": "code",
      "metadata": {
        "colab": {
          "base_uri": "https://localhost:8080/",
          "height": 206
        },
        "id": "YdML0680TlFy",
        "outputId": "406efc76-1bbb-4916-8859-9f782829cf3c"
      },
      "source": [
        "# which artists have the least popular tracks within the playlist?\n",
        "hungryGuysRadio.groupby(['artist', 'track_name'], as_index=False)['popularity'].mean().sort_values(by='popularity', ascending=True)[:5]"
      ],
      "execution_count": null,
      "outputs": [
        {
          "output_type": "execute_result",
          "data": {
            "text/html": [
              "<div>\n",
              "<style scoped>\n",
              "    .dataframe tbody tr th:only-of-type {\n",
              "        vertical-align: middle;\n",
              "    }\n",
              "\n",
              "    .dataframe tbody tr th {\n",
              "        vertical-align: top;\n",
              "    }\n",
              "\n",
              "    .dataframe thead th {\n",
              "        text-align: right;\n",
              "    }\n",
              "</style>\n",
              "<table border=\"1\" class=\"dataframe\">\n",
              "  <thead>\n",
              "    <tr style=\"text-align: right;\">\n",
              "      <th></th>\n",
              "      <th>artist</th>\n",
              "      <th>track_name</th>\n",
              "      <th>popularity</th>\n",
              "    </tr>\n",
              "  </thead>\n",
              "  <tbody>\n",
              "    <tr>\n",
              "      <th>194</th>\n",
              "      <td>Spoon</td>\n",
              "      <td>The Underdog</td>\n",
              "      <td>0.0</td>\n",
              "    </tr>\n",
              "    <tr>\n",
              "      <th>227</th>\n",
              "      <td>The Raconteurs</td>\n",
              "      <td>Steady, As She Goes</td>\n",
              "      <td>0.0</td>\n",
              "    </tr>\n",
              "    <tr>\n",
              "      <th>75</th>\n",
              "      <td>Future Islands</td>\n",
              "      <td>Ancient Water</td>\n",
              "      <td>0.0</td>\n",
              "    </tr>\n",
              "    <tr>\n",
              "      <th>145</th>\n",
              "      <td>Morningsiders</td>\n",
              "      <td>Somewhere In Between</td>\n",
              "      <td>0.0</td>\n",
              "    </tr>\n",
              "    <tr>\n",
              "      <th>206</th>\n",
              "      <td>Sundara Karma</td>\n",
              "      <td>Flame (Roosevelt Remix)</td>\n",
              "      <td>0.0</td>\n",
              "    </tr>\n",
              "  </tbody>\n",
              "</table>\n",
              "</div>"
            ],
            "text/plain": [
              "             artist               track_name  popularity\n",
              "194           Spoon             The Underdog         0.0\n",
              "227  The Raconteurs      Steady, As She Goes         0.0\n",
              "75   Future Islands            Ancient Water         0.0\n",
              "145   Morningsiders     Somewhere In Between         0.0\n",
              "206   Sundara Karma  Flame (Roosevelt Remix)         0.0"
            ]
          },
          "metadata": {},
          "execution_count": 12
        }
      ]
    }
  ]
}