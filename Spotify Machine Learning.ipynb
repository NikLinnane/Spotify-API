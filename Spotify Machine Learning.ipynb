{
 "cells": [
  {
   "cell_type": "markdown",
   "metadata": {},
   "source": [
    "<h1> <b> Hungry Guys Radio Track Recommendation Model </b> </h1> <br> <b> The Goal: </b> Train a machine learning model to recommend new songs that fit the vibe of our playlist titled <i> Hungry Guys Radio </i> <br> <b> Data Source: </b> Spotify's API, <i> Spotipy </i> <br> <b> Author: </b> Nik Linnane"
   ]
  },
  {
   "cell_type": "markdown",
   "metadata": {},
   "source": [
    "<br> <h2> Import Libraries & Data </h2>"
   ]
  },
  {
   "cell_type": "code",
   "execution_count": 1,
   "metadata": {},
   "outputs": [],
   "source": [
    "# libraries\n",
    "import pandas as pd\n",
    "import numpy as np\n",
    "import matplotlib.pyplot as plt\n",
    "pd.set_option('display.max_columns', None)\n",
    "\n",
    "# data\n",
    "data = pd.read_csv('/Users/nik.linnane/Downloads/Spotify/mlData.csv')\n",
    "data['EXPLICIT'] = data['EXPLICIT'].astype(object) # make EXPLICIT categorical"
   ]
  },
  {
   "cell_type": "markdown",
   "metadata": {},
   "source": [
    "<b> About the Data: </b> This dataset includes the entirety of <i> Hungry Guys Radio </i> as well as various other styled playlists that will allow the model to pick up on patterns. The other playlists include <i> Today's Top Hits, Hot Country, All New Jazz, It's ALT Good </i> (all created by Spotify) and <i> Morgan Freeman </i> (created by Jack)."
   ]
  },
  {
   "cell_type": "markdown",
   "metadata": {},
   "source": [
    "<br> <h2> Data Inspection </h2>"
   ]
  },
  {
   "cell_type": "code",
   "execution_count": 2,
   "metadata": {},
   "outputs": [
    {
     "name": "stdout",
     "output_type": "stream",
     "text": [
      "<class 'pandas.core.frame.DataFrame'>\n",
      "RangeIndex: 641 entries, 0 to 640\n",
      "Data columns (total 17 columns):\n",
      " #   Column            Non-Null Count  Dtype  \n",
      "---  ------            --------------  -----  \n",
      " 0   ARTIST            641 non-null    object \n",
      " 1   ALBUM             641 non-null    object \n",
      " 2   TRACK_NAME        641 non-null    object \n",
      " 3   DANCEABILITY      641 non-null    float64\n",
      " 4   ENERGY            641 non-null    float64\n",
      " 5   LOUDNESS          641 non-null    float64\n",
      " 6   SPEECHINESS       641 non-null    float64\n",
      " 7   INSTRUMENTALNESS  641 non-null    float64\n",
      " 8   LIVENESS          641 non-null    float64\n",
      " 9   VALENCE           641 non-null    float64\n",
      " 10  ACOUSTICNESS      641 non-null    float64\n",
      " 11  EXPLICIT          641 non-null    object \n",
      " 12  POPULARITY        641 non-null    int64  \n",
      " 13  TEMPO             641 non-null    float64\n",
      " 14  DURATION_MIN      641 non-null    float64\n",
      " 15  PLAYLIST          641 non-null    object \n",
      " 16  HGR               641 non-null    int64  \n",
      "dtypes: float64(10), int64(2), object(5)\n",
      "memory usage: 85.3+ KB\n"
     ]
    }
   ],
   "source": [
    "data.info()"
   ]
  },
  {
   "cell_type": "code",
   "execution_count": 3,
   "metadata": {},
   "outputs": [
    {
     "data": {
      "text/plain": [
       "HGR                 0\n",
       "INSTRUMENTALNESS    0\n",
       "ALBUM               0\n",
       "TRACK_NAME          0\n",
       "DANCEABILITY        0\n",
       "ENERGY              0\n",
       "LOUDNESS            0\n",
       "SPEECHINESS         0\n",
       "LIVENESS            0\n",
       "PLAYLIST            0\n",
       "VALENCE             0\n",
       "ACOUSTICNESS        0\n",
       "EXPLICIT            0\n",
       "POPULARITY          0\n",
       "TEMPO               0\n",
       "DURATION_MIN        0\n",
       "ARTIST              0\n",
       "dtype: int64"
      ]
     },
     "execution_count": 3,
     "metadata": {},
     "output_type": "execute_result"
    }
   ],
   "source": [
    "# check for NULLs\n",
    "data.isnull().sum().sort_values(ascending=False)"
   ]
  },
  {
   "cell_type": "code",
   "execution_count": 4,
   "metadata": {},
   "outputs": [
    {
     "data": {
      "text/plain": [
       "Hungry Guys Radio    270\n",
       "Morgan Freeman       100\n",
       "It's ALT Good!       100\n",
       "All New Jazz          71\n",
       "Today's Top Hits      50\n",
       "Hot Country           50\n",
       "Name: PLAYLIST, dtype: int64"
      ]
     },
     "execution_count": 4,
     "metadata": {},
     "output_type": "execute_result"
    }
   ],
   "source": [
    "# count of songs per playlist\n",
    "data.PLAYLIST.value_counts()"
   ]
  },
  {
   "cell_type": "code",
   "execution_count": 5,
   "metadata": {},
   "outputs": [
    {
     "data": {
      "text/plain": [
       "0    371\n",
       "1    270\n",
       "Name: HGR, dtype: int64"
      ]
     },
     "execution_count": 5,
     "metadata": {},
     "output_type": "execute_result"
    }
   ],
   "source": [
    "# distribution of prediction labels\n",
    "data.HGR.value_counts()"
   ]
  },
  {
   "cell_type": "markdown",
   "metadata": {},
   "source": [
    "<b> Disclaimer: </b> Given there are only 270 tracks on <i> Hungry Guys Radio, </i> the dataset cannot be too large or else the proportion of non-HGR to HGR songs will make the model simply predict most tracks are non-HGR based on pure percentages."
   ]
  },
  {
   "cell_type": "markdown",
   "metadata": {},
   "source": [
    "<br> <h2> Data Cleaning </h2>"
   ]
  },
  {
   "cell_type": "code",
   "execution_count": 6,
   "metadata": {},
   "outputs": [
    {
     "data": {
      "text/plain": [
       "(605, 17)"
      ]
     },
     "execution_count": 6,
     "metadata": {},
     "output_type": "execute_result"
    }
   ],
   "source": [
    "# remove any duplicate songs within the dataset\n",
    "    # NOTE we are keeping the first instance to allow all songs within HGR to stay within HGR\n",
    "data = data.drop_duplicates(subset=['TRACK_NAME'], keep='first')\n",
    "data.shape"
   ]
  },
  {
   "cell_type": "code",
   "execution_count": 7,
   "metadata": {},
   "outputs": [],
   "source": [
    "# dropping unwanted data\n",
    "data = data.drop(['ALBUM', 'TRACK_NAME', 'PLAYLIST', 'ARTIST'], axis=1) # ARTIST would be useful, but the model needs to handle new artists it hasnt seen before - for our purposes dropping this field is fine"
   ]
  },
  {
   "cell_type": "markdown",
   "metadata": {},
   "source": [
    "<br> <h2> Data Preprocessing </h2>"
   ]
  },
  {
   "cell_type": "code",
   "execution_count": 8,
   "metadata": {},
   "outputs": [
    {
     "name": "stdout",
     "output_type": "stream",
     "text": [
      "Full Dataset: 605 \n",
      "Training (95%): 574 \n",
      "Testing (5%): 31\n"
     ]
    }
   ],
   "source": [
    "# train, test, split using stratified shuffle split\n",
    "from sklearn.model_selection import train_test_split\n",
    "\n",
    "train_set, test_set = train_test_split(data,\n",
    "                                       test_size=0.05, # not a lot of data so only saving 5% for testing\n",
    "                                       random_state=0, # set state for reproducibility\n",
    "                                       stratify=data['HGR']) # ensuring equal proportions of HGR tracks within training and testing sets\n",
    "\n",
    "print('Full Dataset: {:,} \\nTraining (95%): {:,} \\nTesting (5%): {:,}'.format(len(data), len(train_set), len(test_set)))"
   ]
  },
  {
   "cell_type": "code",
   "execution_count": 9,
   "metadata": {},
   "outputs": [],
   "source": [
    "# create training datasets\n",
    "X_train_pre = train_set.drop(['HGR'], axis=1)\n",
    "y_train = train_set['HGR'].copy()\n",
    "\n",
    "# create testing datasets\n",
    "X_test_pre = test_set.drop(['HGR'], axis=1)\n",
    "y_test = test_set['HGR'].copy()"
   ]
  },
  {
   "cell_type": "code",
   "execution_count": 10,
   "metadata": {},
   "outputs": [],
   "source": [
    "# pipeline imports\n",
    "from sklearn.pipeline import Pipeline\n",
    "from sklearn.preprocessing import StandardScaler\n",
    "from sklearn.compose import ColumnTransformer\n",
    "from sklearn.impute import SimpleImputer\n",
    "from sklearn.preprocessing import MinMaxScaler\n",
    "from sklearn.preprocessing import OneHotEncoder"
   ]
  },
  {
   "cell_type": "code",
   "execution_count": 11,
   "metadata": {},
   "outputs": [],
   "source": [
    "# define categorical and numeric features\n",
    "cat_attribs = ['EXPLICIT'] # categorical features\n",
    "num_attribs = list(X_train_pre.drop(cat_attribs, axis=1)) # numeric features\n",
    "\n",
    "# build numeric pipeline\n",
    "num_pipeline = Pipeline([\n",
    "    ('impute', SimpleImputer(strategy='median')), # not used here since there are no NULLs but nice to have just in case new dataing coming in has NULLs\n",
    "    ('minMax', MinMaxScaler()),\n",
    "])\n",
    "\n",
    "# build full pipeline\n",
    "full_pipeline = ColumnTransformer([\n",
    "    ('num', num_pipeline, num_attribs),\n",
    "    ('cat', OneHotEncoder(), cat_attribs)\n",
    "])"
   ]
  },
  {
   "cell_type": "code",
   "execution_count": 12,
   "metadata": {},
   "outputs": [
    {
     "name": "stdout",
     "output_type": "stream",
     "text": [
      "X_train:  (574, 13)\n",
      "X_test:  (31, 13)\n"
     ]
    }
   ],
   "source": [
    "# run data through the full pipeline to get our preprocessed training and testing data\n",
    "X_train = full_pipeline.fit_transform(X_train_pre)\n",
    "X_test = full_pipeline.fit_transform(X_test_pre)\n",
    "print('X_train: ', X_train.shape)\n",
    "print('X_test: ', X_test.shape)"
   ]
  },
  {
   "cell_type": "markdown",
   "metadata": {},
   "source": [
    "<br> <h2> Model Training </h2>"
   ]
  },
  {
   "cell_type": "markdown",
   "metadata": {},
   "source": [
    "<h3> <font color='black' > 1. Logistic Regression </font> </h3> <blockquote> Commonly used classification algorithm that estimates the probability that an instance belongs to a particular class (in this case HGR). </blockquote>"
   ]
  },
  {
   "cell_type": "code",
   "execution_count": 13,
   "metadata": {},
   "outputs": [
    {
     "data": {
      "text/plain": [
       "LogisticRegression(max_iter=1000, random_state=0)"
      ]
     },
     "execution_count": 13,
     "metadata": {},
     "output_type": "execute_result"
    }
   ],
   "source": [
    "# import algorithm\n",
    "from sklearn.linear_model import LogisticRegression\n",
    "\n",
    "# compile the model\n",
    "logReg = LogisticRegression(max_iter=1000, random_state=0)\n",
    "\n",
    "# fit model to training datasets\n",
    "logReg.fit(X_train, y_train)"
   ]
  },
  {
   "cell_type": "markdown",
   "metadata": {},
   "source": [
    "<h4> <font color='black' > Logistic Regression Evaluation </font> </h4>"
   ]
  },
  {
   "cell_type": "markdown",
   "metadata": {},
   "source": [
    "**Accuracy** <br> <blockquote> <i> NOTE: Accuracy isn't always the best metric for measuring classification models. For example, a model that classifies apples and oranges could be trained on a dataset of 990 oranges and 10 apples. If the model just said everything was an orange, it'd be 99% accurate. This is where confusion matrices, precision, recall and F1 scores come into play! </i> </blockquote>"
   ]
  },
  {
   "cell_type": "code",
   "execution_count": 14,
   "metadata": {},
   "outputs": [
    {
     "name": "stdout",
     "output_type": "stream",
     "text": [
      "Logistic Regression Accuracy:  69.51219512195121\n",
      "Logistic Regression 3-Fold Cross-Vaidation Accuracy : [0.68229167 0.68586387 0.68586387]\n"
     ]
    }
   ],
   "source": [
    "# score() returns the mean accuracy on the given training data\n",
    "logRegAccuracy = logReg.score(X_train, y_train)*100\n",
    "print('Logistic Regression Accuracy: ', logRegAccuracy)\n",
    "\n",
    "# cross_val_score uses k-fold cross validation to return k accuracy scores. ensures the model didn't get lucky with the initial training set\n",
    "from sklearn.model_selection import cross_val_score\n",
    "logRegCVAccuracy = cross_val_score(logReg, X_train, y_train, cv=3, scoring='accuracy')\n",
    "print('Logistic Regression 3-Fold Cross-Vaidation Accuracy :', logRegCVAccuracy)"
   ]
  },
  {
   "cell_type": "markdown",
   "metadata": {},
   "source": [
    "<br> **Confusion Matrix** <br> <blockquote> <i> NOTE: A much better way to evaluate classification models is to look at its confusion matrix. The general idea is to count how many times the model predicted a class correctly and incorrectly using True Positives, True Negatives, False Positives and False Negatives </i> </blockquote>"
   ]
  },
  {
   "cell_type": "code",
   "execution_count": 15,
   "metadata": {},
   "outputs": [
    {
     "data": {
      "text/plain": [
       "array([[248,  73],\n",
       "       [108, 145]])"
      ]
     },
     "execution_count": 15,
     "metadata": {},
     "output_type": "execute_result"
    }
   ],
   "source": [
    "# cross_val_predict uses k-fold cross validation to return predictions instead of accuracy\n",
    "from sklearn.model_selection import cross_val_predict\n",
    "y_train_pred = cross_val_predict(logReg, X_train, y_train, cv=3)\n",
    "\n",
    "# printing the confusion matrix from the above training predictions\n",
    "from sklearn.metrics import confusion_matrix\n",
    "confusion_matrix(y_train, y_train_pred)"
   ]
  },
  {
   "cell_type": "markdown",
   "metadata": {},
   "source": [
    "**Interpreting the Confusion Matrix...**\n",
    "- 248 actually non-HGR tracks that were predicted to be non-HGR (TN)\n",
    "- 108 actually HGR tracks that were predicted to be non-HGR (FN)\n",
    "- 73 actually non-HGR tracks that were predicted to be HGR (FP)\n",
    "- 145 actually HGR tracks that were predicted to be HGR (TP)"
   ]
  },
  {
   "cell_type": "markdown",
   "metadata": {},
   "source": [
    "<br> **Precision, Recall & F1 Score** <br> <blockquote> <i> NOTE: While the confusion matrix gives a lot of great information, sometimes you may prefer a more concise metric which is when precision, recall and the f1 score become useful. </i> </blockquote>\n",
    "- Precision: the accuracy of the positive (HGR) predictions\n",
    "- Recall: the ratio of positive (HGR) instances correctly detected by the classifier\n",
    "- F1 Score: a harmonic mean of precision and recall. the harmonic mean gives more weight to low values and as a result will only be a high score if both precision and recall are high (ranges 0-1) "
   ]
  },
  {
   "cell_type": "code",
   "execution_count": 16,
   "metadata": {},
   "outputs": [
    {
     "name": "stdout",
     "output_type": "stream",
     "text": [
      "Logistic Regression Precision:  66.5137614678899\n",
      "Logistic Regression Recall:  57.31225296442688\n",
      "Logistic Regression F1 Score:  0.6157112526539278\n"
     ]
    }
   ],
   "source": [
    "# returns precision and recall scores\n",
    "from sklearn.metrics import precision_score, recall_score, f1_score\n",
    "logRegPrecision = precision_score(y_train, y_train_pred)*100\n",
    "logRegRecall = recall_score(y_train, y_train_pred)*100\n",
    "logRegF1Score = f1_score(y_train, y_train_pred)\n",
    "print('Logistic Regression Precision: ', logRegPrecision)\n",
    "print('Logistic Regression Recall: ', logRegRecall)\n",
    "print('Logistic Regression F1 Score: ', logRegF1Score)"
   ]
  },
  {
   "cell_type": "markdown",
   "metadata": {},
   "source": [
    "**Interpreting Precision, Recall & F1 Score...**\n",
    "- When the model claims a track fits the vibe of HGR, it is correct 66.5% of the time\n",
    "- The model detects 57.3% of all HGR tracks it sees\n",
    "- The model has an F1 Score of 0.6 / 1.0"
   ]
  },
  {
   "cell_type": "markdown",
   "metadata": {},
   "source": [
    "<br> **Adjusting Precision & Recall Using a Desired Threshold** <br> <blockquote> <i> NOTE: Precision and recall have an inverse relationship. One cannot increase without the other decreasing. That being said, we must decide which is more important in our particular use case. An example of when deciding between high precision or high recall is when diagnosing a serious illness. If you want to completely avoid classifying someone as not having an illness when they actually do, you'll favor recall. However, this means you might falsely diagnose someone as having an illness when they actually don't. Still, that's better than the former but would come with an icreased cost of treatment to your hopsital (which is obviously outweighed by not missing anyone who is seriously ill). Alternatively, a model that would favor precision would be classifying banking customers as loan defaulters or not since you wouldn't want to be wrong about assuming that of your customers. </i> </blockquote>\n",
    "<blockquote> In this use case, I will favor a higher recall because music is so sujective and due to the limited data I have on our playlist, I know this model might not be be as accurate as Spotify's current recommendation algorithm. </blockquote>"
   ]
  },
  {
   "cell_type": "code",
   "execution_count": 17,
   "metadata": {},
   "outputs": [
    {
     "data": {
      "image/png": "[encoded data removed]",
      "text/plain": [
       "<Figure size 432x288 with 1 Axes>"
      ]
     },
     "metadata": {
      "needs_background": "light"
     },
     "output_type": "display_data"
    }
   ],
   "source": [
    "# deciding on the threshold using cross_val_predict\n",
    "y_scores = cross_val_predict(logReg, X_train, y_train, cv=3, method='decision_function') # we want decision scores instead of predictions\n",
    "\n",
    "# with these scores we can now plot a precision recall curve\n",
    "from sklearn.metrics import precision_recall_curve\n",
    "precisions, recalls, thresholds = precision_recall_curve(y_train, y_scores)\n",
    "\n",
    "# function that uses matplotlib to plot the curve\n",
    "def plot_precision_recall_vs_threshold(precisions, recalls, thresholds):\n",
    "    plt.plot(thresholds, precisions[:-1], 'b--', label='Precision', linewidth=2)\n",
    "    plt.plot(thresholds, recalls[:-1], 'g-', label='Recall', linewidth=2)\n",
    "    plt.legend(loc='center right', fontsize=16)\n",
    "    plt.xlabel('Threshold', fontsize=16)\n",
    "    plt.grid(True)\n",
    "    #plt.axis([-5, 10, 0, 1])\n",
    "\n",
    "# call function\n",
    "plot_precision_recall_vs_threshold(precisions, recalls, thresholds)\n",
    "plt.show()"
   ]
  },
  {
   "cell_type": "code",
   "execution_count": 18,
   "metadata": {},
   "outputs": [
    {
     "data": {
      "image/png": "[encoded data removed]",
      "text/plain": [
       "<Figure size 720x432 with 1 Axes>"
      ]
     },
     "metadata": {
      "needs_background": "light"
     },
     "output_type": "display_data"
    }
   ],
   "source": [
    "# function to plot precision against recall\n",
    "def plot_precision_vs_recall(precisions, recalls):\n",
    "    plt.plot(recalls, precisions, 'b-', linewidth=2)\n",
    "    plt.xlabel('Recall', fontsize=16)\n",
    "    plt.ylabel('Precision', fontsize=16)\n",
    "    plt.axis([0, 1, 0, 1])\n",
    "    plt.grid(True)\n",
    "\n",
    "# call function\n",
    "plt.figure(figsize=(10, 6))\n",
    "plot_precision_vs_recall(precisions, recalls)\n",
    "plt.show()"
   ]
  },
  {
   "cell_type": "markdown",
   "metadata": {},
   "source": [
    "<blockquote> The above plots give us a look into the precision / recall tradoff for this particular model. Looking at the first plot, if I want a recall of 90%, I'll need a threshold of around -0.7 (and a precision of around 0.55). Scikit-Learn doesn't let you adjust the threshold directly, but it does give access to the decision scores of predictions by calling <i> decision_function() </i> as seen above. </blockquote>"
   ]
  },
  {
   "cell_type": "code",
   "execution_count": 19,
   "metadata": {},
   "outputs": [
    {
     "data": {
      "text/plain": [
       "81.81818181818183"
      ]
     },
     "execution_count": 19,
     "metadata": {},
     "output_type": "execute_result"
    }
   ],
   "source": [
    "# searching for the lowest threshold that gives us 55% precision AKA ~80% recall\n",
    "recall_55_precision = recalls[np.argmax(precisions >= 0.55)]\n",
    "threshold_80_recall = thresholds[np.argmax(precisions >= 0.55)] # happens to be -0.59\n",
    "\n",
    "# making new predictions with our defined threshold of -0.59\n",
    "y_train_pred_80 = (y_scores >= threshold_80_recall)\n",
    "\n",
    "# viewing our model's new recall on the training set\n",
    "recall_score(y_train, y_train_pred_80)*100"
   ]
  },
  {
   "cell_type": "code",
   "execution_count": 20,
   "metadata": {},
   "outputs": [
    {
     "data": {
      "text/plain": [
       "0.63"
      ]
     },
     "execution_count": 20,
     "metadata": {},
     "output_type": "execute_result"
    }
   ],
   "source": [
    "# new accuracy score with 80% recall\n",
    "from sklearn.metrics import accuracy_score\n",
    "round(accuracy_score(y_train, y_train_pred_80, normalize=True), 2)"
   ]
  },
  {
   "cell_type": "code",
   "execution_count": 21,
   "metadata": {},
   "outputs": [
    {
     "data": {
      "text/plain": [
       "array([[152, 169],\n",
       "       [ 46, 207]])"
      ]
     },
     "execution_count": 21,
     "metadata": {},
     "output_type": "execute_result"
    }
   ],
   "source": [
    "# printing the confusion matrix for our new predictions\n",
    "confusion_matrix(y_train, y_train_pred_80)"
   ]
  },
  {
   "cell_type": "markdown",
   "metadata": {},
   "source": [
    "**Interpreting the New Confusion Matrix...**\n",
    "- 152 actually non-HGR tracks that were predicted to be non-HGR (TN)\n",
    "- 46 actually HGR tracks that were predicted to be non-HGR (FN)\n",
    "- 169 actually non-HGR tracks that were predicted to be HGR (FP)\n",
    "- 207 actually HGR tracks that were predicted to be HGR (TP)"
   ]
  },
  {
   "cell_type": "markdown",
   "metadata": {},
   "source": [
    "<blockquote> <i> NOTE: Compared to the previous predictions, here we see a decrease in TN and an increase in TP which is what we'd expect to happen when increasing the recall to 80%. </i> </blockquote> <br>"
   ]
  },
  {
   "cell_type": "code",
   "execution_count": 22,
   "metadata": {},
   "outputs": [
    {
     "name": "stdout",
     "output_type": "stream",
     "text": [
      "Logistic Regression 55% Precision:  55.053191489361694\n",
      "Logistic Regression 80% Recall:  81.81818181818183\n",
      "Logistic Regression 55/80 F1 Score:  0.6581875993640699\n"
     ]
    }
   ],
   "source": [
    "# returns precision and recall scores for our new predictions\n",
    "logReg55Precision = precision_score(y_train, y_train_pred_80)*100\n",
    "logReg80Recall = recall_score(y_train, y_train_pred_80)*100\n",
    "logReg5580F1Score = f1_score(y_train, y_train_pred_80)\n",
    "print('Logistic Regression 55% Precision: ', logReg55Precision)\n",
    "print('Logistic Regression 80% Recall: ', logReg80Recall)\n",
    "print('Logistic Regression 55/80 F1 Score: ', logReg5580F1Score)"
   ]
  },
  {
   "cell_type": "markdown",
   "metadata": {},
   "source": [
    "**Interpreting New Precision, Recall & F1 Scores...**\n",
    "- When the model claims a track fits the vibe of HGR, it is correct 55% of the time\n",
    "- The model detects 81% of all HGR tracks it sees\n",
    "- The model has an F1 Score of 0.65 / 1.0"
   ]
  },
  {
   "cell_type": "markdown",
   "metadata": {},
   "source": [
    "<blockquote> <i> NOTE: Compared to the previous predictions, here we see the anticipated precision and recall scores as well as a higher F1 Score than before. </i> </blockquote>"
   ]
  },
  {
   "cell_type": "markdown",
   "metadata": {},
   "source": [
    "<br> **ROC Curve & AUC** <br> <blockquote> <i> NOTE: The receiver operating characteristic (ROC) curve plots true positive rate (recall) against false positive rate. A great way to compare classifiers is to look at their areas under the curve (AUC). Great classifiers will have an AUC closer to 1 whereas a purely random classifier will have an AUC of 0.5.. </i> </blockquote>"
   ]
  },
  {
   "cell_type": "code",
   "execution_count": 23,
   "metadata": {},
   "outputs": [
    {
     "data": {
      "image/png": "[encoded data removed]",
      "text/plain": [
       "<Figure size 576x432 with 1 Axes>"
      ]
     },
     "metadata": {
      "needs_background": "light"
     },
     "output_type": "display_data"
    }
   ],
   "source": [
    "from sklearn.metrics import roc_curve\n",
    "fpr, tpr, thresholds = roc_curve(y_train, y_scores)\n",
    "\n",
    "# function to plot roc curve\n",
    "def plot_roc_curve(fpr, tpr, label=None):\n",
    "    plt.plot(fpr, tpr, linewidth=2, label=label)\n",
    "    plt.plot([0, 1], [0, 1], 'k--') # dashed diagonal\n",
    "    plt.axis([0, 1, 0, 1])\n",
    "    plt.xlabel('False Positive Rate (Fall-Out)', fontsize=16)\n",
    "    plt.ylabel('True Positive Rate (Recall)', fontsize=16)\n",
    "    plt.grid(True)\n",
    "\n",
    "plt.figure(figsize=(8, 6))\n",
    "plot_roc_curve(fpr, tpr)\n",
    "fpr_55 = fpr[np.argmax(tpr >= recall_55_precision)]  \n",
    "plt.plot([fpr_55, fpr_55], [0., recall_55_precision], 'r:') \n",
    "plt.plot([0.0, fpr_55], [recall_55_precision, recall_55_precision], 'r:')\n",
    "plt.plot([fpr_55], [recall_55_precision], 'ro')\n",
    "plt.show()"
   ]
  },
  {
   "cell_type": "code",
   "execution_count": 24,
   "metadata": {},
   "outputs": [
    {
     "name": "stdout",
     "output_type": "stream",
     "text": [
      "Logistic Regression AUC:  74.12975755113098\n"
     ]
    }
   ],
   "source": [
    "# one way to compare ROC curves is by measuring their AUC (area under the curve)\n",
    "from sklearn.metrics import roc_auc_score\n",
    "logRegAUC = roc_auc_score(y_train, y_scores)*100\n",
    "print('Logistic Regression AUC: ', logRegAUC)"
   ]
  },
  {
   "cell_type": "markdown",
   "metadata": {},
   "source": [
    "**Interpreting the ROC Curve & AUC...**\n",
    "- The red dot indicates the chosen ration at ~80% recall\n",
    "- The area between the blue curve and the black diagonal line represents the AUC. In this case it's 74%."
   ]
  },
  {
   "cell_type": "code",
   "execution_count": 25,
   "metadata": {},
   "outputs": [
    {
     "data": {
      "text/html": [
       "<div>\n",
       "<style scoped>\n",
       "    .dataframe tbody tr th:only-of-type {\n",
       "        vertical-align: middle;\n",
       "    }\n",
       "\n",
       "    .dataframe tbody tr th {\n",
       "        vertical-align: top;\n",
       "    }\n",
       "\n",
       "    .dataframe thead th {\n",
       "        text-align: right;\n",
       "    }\n",
       "</style>\n",
       "<table border=\"1\" class=\"dataframe\">\n",
       "  <thead>\n",
       "    <tr style=\"text-align: right;\">\n",
       "      <th></th>\n",
       "      <th>Model</th>\n",
       "      <th>Accuracy</th>\n",
       "      <th>Mean CV Accuracy</th>\n",
       "      <th>Precision</th>\n",
       "      <th>Recall</th>\n",
       "      <th>F1 Score</th>\n",
       "      <th>AUC</th>\n",
       "      <th>Split</th>\n",
       "    </tr>\n",
       "  </thead>\n",
       "  <tbody>\n",
       "    <tr>\n",
       "      <th>0</th>\n",
       "      <td>Logistic Regression</td>\n",
       "      <td>0.63</td>\n",
       "      <td>68.47</td>\n",
       "      <td>55.05</td>\n",
       "      <td>81.82</td>\n",
       "      <td>0.66</td>\n",
       "      <td>74.13</td>\n",
       "      <td>Training</td>\n",
       "    </tr>\n",
       "  </tbody>\n",
       "</table>\n",
       "</div>"
      ],
      "text/plain": [
       "                 Model  Accuracy  Mean CV Accuracy  Precision  Recall  \\\n",
       "0  Logistic Regression      0.63             68.47      55.05   81.82   \n",
       "\n",
       "   F1 Score    AUC     Split  \n",
       "0      0.66  74.13  Training  "
      ]
     },
     "execution_count": 25,
     "metadata": {},
     "output_type": "execute_result"
    }
   ],
   "source": [
    "# compile scores for later comparision with other models\n",
    "logRegSummary = pd.DataFrame({'Model': ['Logistic Regression'],\n",
    "                               'Accuracy': [round(accuracy_score(y_train, y_train_pred_80, normalize=True), 2)], # accuracy of 80% recall predictions\n",
    "                               'Mean CV Accuracy': [round(logRegCVAccuracy.mean()*100, 2)], # mean CV accuracy of original model\n",
    "                               'Precision': [round(logReg55Precision, 2)], # 55% precision\n",
    "                               'Recall': [round(logReg80Recall, 2)], # 80% recall\n",
    "                               'F1 Score': [round(logReg5580F1Score, 2)], # f1 score from above precision and recalls\n",
    "                               'AUC': [round(logRegAUC, 2)],\n",
    "                               'Split': ['Training']})\n",
    "logRegSummary"
   ]
  },
  {
   "cell_type": "markdown",
   "metadata": {},
   "source": [
    "<br> **Now that we've run through training a model in detail, we can train more models and compare their scores...**"
   ]
  },
  {
   "cell_type": "markdown",
   "metadata": {},
   "source": [
    "<h3> <font color='black' > 2. Decision Tree Classifier </font> </h3> <blockquote> The goal is to create a model that predicts the value of a target variable by learning simple decision rules inferred from the data features. A tree can be seen as a piecewise constant approximation. </blockquote>"
   ]
  },
  {
   "cell_type": "code",
   "execution_count": 26,
   "metadata": {},
   "outputs": [
    {
     "data": {
      "text/plain": [
       "DecisionTreeClassifier(max_depth=4, random_state=0)"
      ]
     },
     "execution_count": 26,
     "metadata": {},
     "output_type": "execute_result"
    }
   ],
   "source": [
    "# algorithm imports \n",
    "import sklearn\n",
    "from sklearn.tree import DecisionTreeClassifier\n",
    "from sklearn.tree import plot_tree\n",
    "\n",
    "# compile model\n",
    "tree_clf = DecisionTreeClassifier(max_depth=4, random_state=0)\n",
    "\n",
    "# fit model to training data\n",
    "tree_clf.fit(X_train, y_train)"
   ]
  },
  {
   "cell_type": "markdown",
   "metadata": {},
   "source": [
    "<h4> <font color='black' > Decision Tree Classifier Evaluation </font> </h4>"
   ]
  },
  {
   "cell_type": "markdown",
   "metadata": {},
   "source": [
    "**Accuracy**"
   ]
  },
  {
   "cell_type": "code",
   "execution_count": 27,
   "metadata": {},
   "outputs": [
    {
     "name": "stdout",
     "output_type": "stream",
     "text": [
      "Decision Tree Classifier Accuracy:  70.90592334494772\n",
      "Decision Tree Classifier 3-Fold Cross-Vaidation Accuracy : [0.64583333 0.67015707 0.61256545]\n"
     ]
    }
   ],
   "source": [
    "# score() returns the mean accuracy on the given training data\n",
    "treeClfAccuracy = tree_clf.score(X_train, y_train)*100\n",
    "print('Decision Tree Classifier Accuracy: ', treeClfAccuracy)\n",
    "\n",
    "# cross_val_score uses k-fold cross validation to return k accuracy scores. ensures the model didn't get lucky with the initial training set\n",
    "treeClfCVAccuracy = cross_val_score(tree_clf, X_train, y_train, cv=3, scoring='accuracy')\n",
    "print('Decision Tree Classifier 3-Fold Cross-Vaidation Accuracy :', treeClfCVAccuracy)"
   ]
  },
  {
   "cell_type": "markdown",
   "metadata": {},
   "source": [
    "<br> **Confusion Matrix** <br>"
   ]
  },
  {
   "cell_type": "code",
   "execution_count": 28,
   "metadata": {},
   "outputs": [
    {
     "data": {
      "text/plain": [
       "array([[210, 111],\n",
       "       [ 94, 159]])"
      ]
     },
     "execution_count": 28,
     "metadata": {},
     "output_type": "execute_result"
    }
   ],
   "source": [
    "# cross_val_predict uses k-fold cross validation to return predictions instead of accuracy\n",
    "y_train_pred = cross_val_predict(tree_clf, X_train, y_train, cv=3)\n",
    "\n",
    "# printing the confusion matrix from the above training predictions\n",
    "confusion_matrix(y_train, y_train_pred)"
   ]
  },
  {
   "cell_type": "markdown",
   "metadata": {},
   "source": [
    "**Interpreting the Confusion Matrix...**\n",
    "- 210 actually non-HGR tracks that were predicted to be non-HGR (TN)\n",
    "- 94 actually HGR tracks that were predicted to be non-HGR (FN)\n",
    "- 111 actually non-HGR tracks that were predicted to be HGR (FP)\n",
    "- 159 actually HGR tracks that were predicted to be HGR (TP)"
   ]
  },
  {
   "cell_type": "markdown",
   "metadata": {},
   "source": [
    "<br>**Precision, Recall & F1 Score**"
   ]
  },
  {
   "cell_type": "code",
   "execution_count": 29,
   "metadata": {},
   "outputs": [
    {
     "name": "stdout",
     "output_type": "stream",
     "text": [
      "Decision Tree Classifier Precision:  58.88888888888889\n",
      "Decision Tree Classifier Recall:  62.845849802371546\n",
      "Decision Tree Classifier F1 Score:  0.6080305927342257\n"
     ]
    }
   ],
   "source": [
    "# returns precision and recall scores\n",
    "treeClfPrecision = precision_score(y_train, y_train_pred)*100\n",
    "treeClfRecall = recall_score(y_train, y_train_pred)*100\n",
    "treeClfF1Score = f1_score(y_train, y_train_pred)\n",
    "print('Decision Tree Classifier Precision: ', treeClfPrecision)\n",
    "print('Decision Tree Classifier Recall: ', treeClfRecall)\n",
    "print('Decision Tree Classifier F1 Score: ', treeClfF1Score)"
   ]
  },
  {
   "cell_type": "markdown",
   "metadata": {},
   "source": [
    "**Interpreting Precision, Recall & F1 Score...**\n",
    "- When the model claims a track fits the vibe of HGR, it is correct 59% of the time\n",
    "- The model detects 63% of all HGR tracks it sees\n",
    "- The model has an F1 Score of 0.6 / 1.0"
   ]
  },
  {
   "cell_type": "markdown",
   "metadata": {},
   "source": [
    "<br> **Adjusting Precision & Recall Using a Desired Threshold**"
   ]
  },
  {
   "cell_type": "code",
   "execution_count": 30,
   "metadata": {},
   "outputs": [
    {
     "data": {
      "image/png": "[encoded data removed]",
      "text/plain": [
       "<Figure size 432x288 with 1 Axes>"
      ]
     },
     "metadata": {
      "needs_background": "light"
     },
     "output_type": "display_data"
    }
   ],
   "source": [
    "# deciding on the threshold using cross_val_predict\n",
    "y_scores = cross_val_predict(tree_clf, X_train, y_train, cv=3, method='predict_proba') # decision tree classifier has no decision_function attribute so we'll use predict_proba\n",
    "y_scores = y_scores[:,1] # predict_proba returns a 2D array of the probability of 0 and then 1. here we're selcting the probability of 1\n",
    "\n",
    "# with these scores we can now plot a precision recall curve\n",
    "precisions, recalls, thresholds = precision_recall_curve(y_train, y_scores)\n",
    "\n",
    "# call function from earlier to plot curve\n",
    "plot_precision_recall_vs_threshold(precisions, recalls, thresholds)\n",
    "plt.show()"
   ]
  },
  {
   "cell_type": "code",
   "execution_count": 31,
   "metadata": {},
   "outputs": [
    {
     "data": {
      "image/png": "[encoded data removed]",
      "text/plain": [
       "<Figure size 720x432 with 1 Axes>"
      ]
     },
     "metadata": {
      "needs_background": "light"
     },
     "output_type": "display_data"
    }
   ],
   "source": [
    "# plot precision against recall using function from earlier\n",
    "plt.figure(figsize=(10, 6))\n",
    "plot_precision_vs_recall(precisions, recalls)\n",
    "plt.show()"
   ]
  },
  {
   "cell_type": "code",
   "execution_count": 32,
   "metadata": {},
   "outputs": [
    {
     "data": {
      "text/plain": [
       "79.05138339920948"
      ]
     },
     "execution_count": 32,
     "metadata": {},
     "output_type": "execute_result"
    }
   ],
   "source": [
    "# again, we want the lowest threshold that gives us ~80% recall, however, it doesnt look like this model can reach that score\n",
    "recall_55_precision = recalls[np.argmax(precisions >= 0.55)]\n",
    "threshold_80_recall = thresholds[np.argmax(precisions >= 0.55)] # 0.33\n",
    "\n",
    "# making new predictions with our defined threshold\n",
    "y_train_pred_80 = (y_scores >= threshold_80_recall)\n",
    "\n",
    "# viewing our model's new recall on the training set\n",
    "recall_score(y_train, y_train_pred_80)*100"
   ]
  },
  {
   "cell_type": "code",
   "execution_count": 33,
   "metadata": {},
   "outputs": [
    {
     "data": {
      "text/plain": [
       "0.63"
      ]
     },
     "execution_count": 33,
     "metadata": {},
     "output_type": "execute_result"
    }
   ],
   "source": [
    "# new accuracy score with 80% recall\n",
    "round(accuracy_score(y_train, y_train_pred_80, normalize=True), 2)"
   ]
  },
  {
   "cell_type": "code",
   "execution_count": 34,
   "metadata": {},
   "outputs": [
    {
     "data": {
      "text/plain": [
       "array([[164, 157],\n",
       "       [ 53, 200]])"
      ]
     },
     "execution_count": 34,
     "metadata": {},
     "output_type": "execute_result"
    }
   ],
   "source": [
    "# printing the confusion matrix for our new predictions\n",
    "confusion_matrix(y_train, y_train_pred_80)"
   ]
  },
  {
   "cell_type": "markdown",
   "metadata": {},
   "source": [
    "**Interpreting the New Confusion Matrix...**\n",
    "- 164 actually non-HGR tracks that were predicted to be non-HGR (TN)\n",
    "- 53, actually HGR tracks that were predicted to be non-HGR (FN)\n",
    "- 157 actually non-HGR tracks that were predicted to be HGR (FP)\n",
    "- 200 actually HGR tracks that were predicted to be HGR (TP)"
   ]
  },
  {
   "cell_type": "code",
   "execution_count": 35,
   "metadata": {},
   "outputs": [
    {
     "name": "stdout",
     "output_type": "stream",
     "text": [
      "Decision Tree Classifier 55% Precision:  56.022408963585434\n",
      "Decision Tree Classifier 80% Recall:  79.05138339920948\n",
      "Decision Tree Classifier 55/80 F1 Score:  0.6557377049180327\n"
     ]
    }
   ],
   "source": [
    "# returns precision and recall scores for our new predictions\n",
    "treeclf55Precision = precision_score(y_train, y_train_pred_80)*100\n",
    "treeclf80Recall = recall_score(y_train, y_train_pred_80)*100\n",
    "treeclf5580F1Score = f1_score(y_train, y_train_pred_80)\n",
    "print('Decision Tree Classifier 55% Precision: ', treeclf55Precision)\n",
    "print('Decision Tree Classifier 80% Recall: ', treeclf80Recall)\n",
    "print('Decision Tree Classifier 55/80 F1 Score: ', treeclf5580F1Score)"
   ]
  },
  {
   "cell_type": "markdown",
   "metadata": {},
   "source": [
    "**Interpreting New Precision, Recall & F1 Scores...**\n",
    "- When the model claims a track fits the vibe of HGR, it is correct 56% of the time\n",
    "- The model detects 79% of all HGR tracks it sees\n",
    "- The model has an F1 Score of 0.65 / 1.0"
   ]
  },
  {
   "cell_type": "markdown",
   "metadata": {},
   "source": [
    "<br> **ROC Curve & AUC**"
   ]
  },
  {
   "cell_type": "code",
   "execution_count": 36,
   "metadata": {},
   "outputs": [
    {
     "data": {
      "image/png": "[encoded data removed]",
      "text/plain": [
       "<Figure size 576x432 with 1 Axes>"
      ]
     },
     "metadata": {
      "needs_background": "light"
     },
     "output_type": "display_data"
    }
   ],
   "source": [
    "fpr, tpr, thresholds = roc_curve(y_train, y_scores)\n",
    "\n",
    "plt.figure(figsize=(8, 6))\n",
    "plot_roc_curve(fpr, tpr)\n",
    "fpr_55 = fpr[np.argmax(tpr >= recall_55_precision)]  \n",
    "plt.plot([fpr_55, fpr_55], [0., recall_55_precision], 'r:') \n",
    "plt.plot([0.0, fpr_55], [recall_55_precision, recall_55_precision], 'r:')\n",
    "plt.plot([fpr_55], [recall_55_precision], 'ro')\n",
    "plt.show()"
   ]
  },
  {
   "cell_type": "code",
   "execution_count": 37,
   "metadata": {},
   "outputs": [
    {
     "name": "stdout",
     "output_type": "stream",
     "text": [
      "Decision Tree Classifier AUC:  68.96001871621539\n"
     ]
    }
   ],
   "source": [
    "# one way to compare ROC curves is by measuring their AUC (area under the curve)\n",
    "treeClfAUC = roc_auc_score(y_train, y_scores)*100\n",
    "print('Decision Tree Classifier AUC: ', treeClfAUC)"
   ]
  },
  {
   "cell_type": "markdown",
   "metadata": {},
   "source": [
    "<br> **Visualizing the Decision Tree** <br> <blockquote> <i> NOTE: We can actually visualize the decision tree that the model uses to make predictions with the code below. </i> </blockquote>"
   ]
  },
  {
   "cell_type": "code",
   "execution_count": 38,
   "metadata": {},
   "outputs": [
    {
     "data": {
      "image/png": "[encoded data removed]",
      "text/plain": [
       "<Figure size 1800x720 with 1 Axes>"
      ]
     },
     "metadata": {
      "needs_background": "light"
     },
     "output_type": "display_data"
    }
   ],
   "source": [
    "plt.figure(figsize=(25, 10))\n",
    "plot_tree(tree_clf, \n",
    "          #class_names=True,\n",
    "          class_names=['non-HGR', 'HGR'], # list classes in ascending numerical order\n",
    "          feature_names=X_train_pre.columns,\n",
    "          filled=True, \n",
    "          rounded=True,\n",
    "          fontsize=10,\n",
    "          label='all');"
   ]
  },
  {
   "cell_type": "markdown",
   "metadata": {},
   "source": [
    "**Interpreting the Decision Tree...**\n",
    "- Start at the root node and if the condition is met (True) move down and to the left, otherwise, move down and to the right\n",
    "- Once a leaf node is reached, the tree will give it's prediction on whether it thinks the track is HGR material or not\n",
    "\n",
    "**Tree Attributes...**\n",
    "- Gini: Measure of impurity. A node is \"pure\" (gini = 0) if all training instances it applies to belong to the same class\n",
    "- Sample: Count of how many training instances fell into that node\n",
    "- Value: Tells you how many instances of each category ([non-HGR, HGR]) fall into that node"
   ]
  },
  {
   "cell_type": "code",
   "execution_count": 39,
   "metadata": {},
   "outputs": [],
   "source": [
    "# compile scores for later comparision with other models\n",
    "treeClfSummary = pd.DataFrame({'Model': ['Decision Tree Classifier'],\n",
    "                               'Accuracy': [round(accuracy_score(y_train, y_train_pred_80, normalize=True), 2)], # accuracy of 80% recall predictions\n",
    "                               'Mean CV Accuracy': [round(treeClfCVAccuracy.mean()*100, 2)], # mean CV accuracy of original model\n",
    "                               'Precision': [round(treeclf55Precision, 2)], # 55% precision\n",
    "                               'Recall': [round(treeclf80Recall, 2)], # 80% recall (really 79% in the case of this model)\n",
    "                               'F1 Score': [round(treeclf5580F1Score, 2)], # f1 score from above precision and recalls\n",
    "                               'AUC': [round(treeClfAUC, 2)],\n",
    "                               'Split': ['Training']})\n",
    "\n",
    "modelSummaries = logRegSummary.append(treeClfSummary)"
   ]
  },
  {
   "cell_type": "markdown",
   "metadata": {},
   "source": [
    "<h3> <font color='black' > 3. K-Nearest Neighbors Classifier </font> </h3> <blockquote> In k-NN classification, the output is a class membership. An object is classified by a plurality vote of its neighbors, with the object being assigned to the class most common among its k nearest neighbors (k is a positive integer, typically small). If k = 1, then the object is simply assigned to the class of that single nearest neighbor. </blockquote>"
   ]
  },
  {
   "cell_type": "code",
   "execution_count": 40,
   "metadata": {},
   "outputs": [
    {
     "data": {
      "text/plain": [
       "KNeighborsClassifier(n_jobs=-1, n_neighbors=6, weights='distance')"
      ]
     },
     "execution_count": 40,
     "metadata": {},
     "output_type": "execute_result"
    }
   ],
   "source": [
    "# algorithm imports \n",
    "from sklearn.neighbors import KNeighborsClassifier\n",
    "\n",
    "# compile model\n",
    "knn_clf = KNeighborsClassifier(n_neighbors=6, \n",
    "                               weights='distance', \n",
    "                               algorithm='auto', \n",
    "                               n_jobs=-1)\n",
    "\n",
    "# fit model to training data\n",
    "knn_clf.fit(X_train, y_train)"
   ]
  },
  {
   "cell_type": "markdown",
   "metadata": {},
   "source": [
    "<h4> <font color='black' > KNN Classifier Evaluation </font> </h4>"
   ]
  },
  {
   "cell_type": "markdown",
   "metadata": {},
   "source": [
    "**Accuracy**"
   ]
  },
  {
   "cell_type": "code",
   "execution_count": 41,
   "metadata": {},
   "outputs": [
    {
     "name": "stdout",
     "output_type": "stream",
     "text": [
      "K-Nearest Neighbors Classifier Accuracy:  100.0\n",
      "K-Nearest Neighbors Classifier 3-Fold Cross-Vaidation Accuracy : [0.625      0.67539267 0.65968586]\n"
     ]
    }
   ],
   "source": [
    "# score returns the mean accuracy on the given training data\n",
    "knnClfAccuracy = knn_clf.score(X_train, y_train)*100\n",
    "print('K-Nearest Neighbors Classifier Accuracy: ', knnClfAccuracy)\n",
    "\n",
    "# cross_val_score uses k-fold cross validation to return k accuracy scores. ensures the model didn't get lucky with the initial training set\n",
    "knnClfCVAccuracy = cross_val_score(knn_clf, X_train, y_train, cv=3, scoring='accuracy')\n",
    "print('K-Nearest Neighbors Classifier 3-Fold Cross-Vaidation Accuracy :', knnClfCVAccuracy)"
   ]
  },
  {
   "cell_type": "markdown",
   "metadata": {},
   "source": [
    "<blockquote> NOTE: This is a great example of why to use cross validation since the original accuracy was shown to be 100% which is never a good sign. </blockquote>"
   ]
  },
  {
   "cell_type": "markdown",
   "metadata": {},
   "source": [
    "<br>**Confusion Matrix**"
   ]
  },
  {
   "cell_type": "code",
   "execution_count": 42,
   "metadata": {},
   "outputs": [
    {
     "data": {
      "text/plain": [
       "array([[236,  85],\n",
       "       [114, 139]])"
      ]
     },
     "execution_count": 42,
     "metadata": {},
     "output_type": "execute_result"
    }
   ],
   "source": [
    "# cross_val_predict uses k-fold cross validation to return predictions instead of accuracy as we did above\n",
    "y_train_pred = cross_val_predict(knn_clf, X_train, y_train, cv=3)\n",
    "\n",
    "# printing the confusion matrix from the above training predictions\n",
    "confusion_matrix(y_train, y_train_pred)"
   ]
  },
  {
   "cell_type": "markdown",
   "metadata": {},
   "source": [
    "**Interpreting the Confusion Matrix...**\n",
    "- 236 actually non-HGR tracks that were predicted to be non-HGR (TN)\n",
    "- 114 actually HGR tracks that were predicted to be non-HGR (FN)\n",
    "- 85 actually non-HGR tracks that were predicted to be HGR (FP)\n",
    "- 139 actually HGR tracks that were predicted to be HGR (TP)"
   ]
  },
  {
   "cell_type": "markdown",
   "metadata": {},
   "source": [
    "<br>**Precision, Recall & F1 Score**"
   ]
  },
  {
   "cell_type": "code",
   "execution_count": 43,
   "metadata": {},
   "outputs": [
    {
     "name": "stdout",
     "output_type": "stream",
     "text": [
      "K-Nearest Neighbors Classifier Precision:  62.05357142857143\n",
      "K-Nearest Neighbors Classifier Recall:  54.9407114624506\n",
      "K-Nearest Neighbors Classifier F1 Score:  0.5828092243186583\n"
     ]
    }
   ],
   "source": [
    "# returns precision and recall scores\n",
    "knnClfPrecision = precision_score(y_train, y_train_pred)*100\n",
    "knnClfRecall = recall_score(y_train, y_train_pred)*100\n",
    "knnClfF1Score = f1_score(y_train, y_train_pred)\n",
    "print('K-Nearest Neighbors Classifier Precision: ', knnClfPrecision)\n",
    "print('K-Nearest Neighbors Classifier Recall: ', knnClfRecall)\n",
    "print('K-Nearest Neighbors Classifier F1 Score: ', knnClfF1Score)"
   ]
  },
  {
   "cell_type": "markdown",
   "metadata": {},
   "source": [
    "**Interpreting Precision, Recall & F1 Score...**\n",
    "- When the model claims a track fits the vibe of HGR, it is correct 62% of the time\n",
    "- The model detects 54% of all HGR tracks it sees\n",
    "- The model has an F1 Score of 0.58 / 1.0"
   ]
  },
  {
   "cell_type": "markdown",
   "metadata": {},
   "source": [
    "<br> **Adjusting Precision & Recall Using a Desired Threshold**"
   ]
  },
  {
   "cell_type": "code",
   "execution_count": 44,
   "metadata": {},
   "outputs": [
    {
     "data": {
      "image/png": "[encoded data removed]",
      "text/plain": [
       "<Figure size 432x288 with 1 Axes>"
      ]
     },
     "metadata": {
      "needs_background": "light"
     },
     "output_type": "display_data"
    }
   ],
   "source": [
    "# deciding on the threshold using cross_val_predict\n",
    "y_scores = cross_val_predict(knn_clf, X_train, y_train, cv=3, method='predict_proba') # knn classifier has no decision_function attribute so we'll use predict_proba\n",
    "y_scores = y_scores[:,1] # predict_proba returns a 2D array of the probability of 0 and then 1. here we're selcting the probability of 1\n",
    "\n",
    "# with these scores we can now plot a precision recall curve\n",
    "precisions, recalls, thresholds = precision_recall_curve(y_train, y_scores)\n",
    "\n",
    "# call function from earlier to plot curve\n",
    "plot_precision_recall_vs_threshold(precisions, recalls, thresholds)\n",
    "plt.show()"
   ]
  },
  {
   "cell_type": "code",
   "execution_count": 45,
   "metadata": {},
   "outputs": [
    {
     "data": {
      "image/png": "[encoded data removed]",
      "text/plain": [
       "<Figure size 720x432 with 1 Axes>"
      ]
     },
     "metadata": {
      "needs_background": "light"
     },
     "output_type": "display_data"
    }
   ],
   "source": [
    "# plot precision against recall using function from earlier\n",
    "plt.figure(figsize=(10, 6))\n",
    "plot_precision_vs_recall(precisions, recalls)\n",
    "plt.show()"
   ]
  },
  {
   "cell_type": "code",
   "execution_count": 46,
   "metadata": {},
   "outputs": [
    {
     "data": {
      "text/plain": [
       "74.70355731225297"
      ]
     },
     "execution_count": 46,
     "metadata": {},
     "output_type": "execute_result"
    }
   ],
   "source": [
    "# again, we want the lowest threshold that gives us ~80% recall, however, it doesnt look like this model can reach that score\n",
    "recall_55_precision = recalls[np.argmax(precisions >= 0.55)]\n",
    "threshold_80_recall = thresholds[np.argmax(precisions >= 0.55)] # 0.64\n",
    "\n",
    "# making new predictions with our defined threshold\n",
    "y_train_pred_80 = (y_scores >= threshold_80_recall)\n",
    "\n",
    "# viewing our model's new recall on the training set\n",
    "recall_score(y_train, y_train_pred_80)*100"
   ]
  },
  {
   "cell_type": "code",
   "execution_count": 47,
   "metadata": {},
   "outputs": [
    {
     "data": {
      "text/plain": [
       "0.62"
      ]
     },
     "execution_count": 47,
     "metadata": {},
     "output_type": "execute_result"
    }
   ],
   "source": [
    "# new accuracy score with 80% recall\n",
    "round(accuracy_score(y_train, y_train_pred_80, normalize=True), 2)"
   ]
  },
  {
   "cell_type": "code",
   "execution_count": 48,
   "metadata": {},
   "outputs": [
    {
     "data": {
      "text/plain": [
       "array([[167, 154],\n",
       "       [ 64, 189]])"
      ]
     },
     "execution_count": 48,
     "metadata": {},
     "output_type": "execute_result"
    }
   ],
   "source": [
    "# printing the confusion matrix for our new predictions\n",
    "confusion_matrix(y_train, y_train_pred_80)"
   ]
  },
  {
   "cell_type": "markdown",
   "metadata": {},
   "source": [
    "**Interpreting the New Confusion Matrix...**\n",
    "- 167 actually non-HGR tracks that were predicted to be non-HGR (TN)\n",
    "- 64, actually HGR tracks that were predicted to be non-HGR (FN)\n",
    "- 154 actually non-HGR tracks that were predicted to be HGR (FP)\n",
    "- 189 actually HGR tracks that were predicted to be HGR (TP)"
   ]
  },
  {
   "cell_type": "code",
   "execution_count": 49,
   "metadata": {},
   "outputs": [
    {
     "name": "stdout",
     "output_type": "stream",
     "text": [
      "K-Nearest Neighbors Classifier 55% Precision:  55.10204081632652\n",
      "K-Nearest Neighbors Classifier 80% Recall:  74.70355731225297\n",
      "K-Nearest Neighbors Classifier 55/80 F1 Score:  0.634228187919463\n"
     ]
    }
   ],
   "source": [
    "# returns precision and recall scores for our new predictions\n",
    "knnclf55Precision = precision_score(y_train, y_train_pred_80)*100\n",
    "knnclf80Recall = recall_score(y_train, y_train_pred_80)*100\n",
    "knnclf5580F1Score = f1_score(y_train, y_train_pred_80)\n",
    "print('K-Nearest Neighbors Classifier 55% Precision: ', knnclf55Precision)\n",
    "print('K-Nearest Neighbors Classifier 80% Recall: ', knnclf80Recall)\n",
    "print('K-Nearest Neighbors Classifier 55/80 F1 Score: ', knnclf5580F1Score)"
   ]
  },
  {
   "cell_type": "markdown",
   "metadata": {},
   "source": [
    "**Interpreting Precision, Recall & F1 Score...**\n",
    "- When the model claims a track fits the vibe of HGR, it is correct 55% of the time\n",
    "- The model detects 74% of all HGR tracks it sees\n",
    "- The model has an F1 Score of 0.63 / 1.0"
   ]
  },
  {
   "cell_type": "markdown",
   "metadata": {},
   "source": [
    "<br>**ROC Curve & AUC**"
   ]
  },
  {
   "cell_type": "code",
   "execution_count": 50,
   "metadata": {},
   "outputs": [
    {
     "data": {
      "image/png": "[encoded data removed]",
      "text/plain": [
       "<Figure size 576x432 with 1 Axes>"
      ]
     },
     "metadata": {
      "needs_background": "light"
     },
     "output_type": "display_data"
    }
   ],
   "source": [
    "fpr, tpr, thresholds = roc_curve(y_train, y_scores)\n",
    "\n",
    "plt.figure(figsize=(8, 6))\n",
    "plot_roc_curve(fpr, tpr)\n",
    "fpr_55 = fpr[np.argmax(tpr >= recall_55_precision)]  \n",
    "plt.plot([fpr_55, fpr_55], [0., recall_55_precision], 'r:') \n",
    "plt.plot([0.0, fpr_55], [recall_55_precision, recall_55_precision], 'r:')\n",
    "plt.plot([fpr_55], [recall_55_precision], 'ro')\n",
    "plt.show()"
   ]
  },
  {
   "cell_type": "code",
   "execution_count": 51,
   "metadata": {},
   "outputs": [
    {
     "name": "stdout",
     "output_type": "stream",
     "text": [
      "K-Nearest Neighbors Classifier AUC:  70.91167670200585\n"
     ]
    }
   ],
   "source": [
    "# one way to compare ROC curves is by measuring their AUC (area under the curve)\n",
    "knnClfAUC = roc_auc_score(y_train, y_scores)*100\n",
    "print('K-Nearest Neighbors Classifier AUC: ', knnClfAUC)"
   ]
  },
  {
   "cell_type": "code",
   "execution_count": 52,
   "metadata": {},
   "outputs": [
    {
     "data": {
      "text/html": [
       "<div>\n",
       "<style scoped>\n",
       "    .dataframe tbody tr th:only-of-type {\n",
       "        vertical-align: middle;\n",
       "    }\n",
       "\n",
       "    .dataframe tbody tr th {\n",
       "        vertical-align: top;\n",
       "    }\n",
       "\n",
       "    .dataframe thead th {\n",
       "        text-align: right;\n",
       "    }\n",
       "</style>\n",
       "<table border=\"1\" class=\"dataframe\">\n",
       "  <thead>\n",
       "    <tr style=\"text-align: right;\">\n",
       "      <th></th>\n",
       "      <th>Model</th>\n",
       "      <th>Accuracy</th>\n",
       "      <th>Mean CV Accuracy</th>\n",
       "      <th>Precision</th>\n",
       "      <th>Recall</th>\n",
       "      <th>F1 Score</th>\n",
       "      <th>AUC</th>\n",
       "      <th>Split</th>\n",
       "    </tr>\n",
       "  </thead>\n",
       "  <tbody>\n",
       "    <tr>\n",
       "      <th>0</th>\n",
       "      <td>Logistic Regression</td>\n",
       "      <td>0.63</td>\n",
       "      <td>68.47</td>\n",
       "      <td>55.05</td>\n",
       "      <td>81.82</td>\n",
       "      <td>0.66</td>\n",
       "      <td>74.13</td>\n",
       "      <td>Training</td>\n",
       "    </tr>\n",
       "    <tr>\n",
       "      <th>0</th>\n",
       "      <td>Decision Tree Classifier</td>\n",
       "      <td>0.63</td>\n",
       "      <td>64.29</td>\n",
       "      <td>56.02</td>\n",
       "      <td>79.05</td>\n",
       "      <td>0.66</td>\n",
       "      <td>68.96</td>\n",
       "      <td>Training</td>\n",
       "    </tr>\n",
       "    <tr>\n",
       "      <th>0</th>\n",
       "      <td>K-Nearest Neighbors Classifier</td>\n",
       "      <td>0.62</td>\n",
       "      <td>64.29</td>\n",
       "      <td>55.10</td>\n",
       "      <td>74.70</td>\n",
       "      <td>0.63</td>\n",
       "      <td>70.91</td>\n",
       "      <td>Training</td>\n",
       "    </tr>\n",
       "  </tbody>\n",
       "</table>\n",
       "</div>"
      ],
      "text/plain": [
       "                            Model  Accuracy  Mean CV Accuracy  Precision  \\\n",
       "0             Logistic Regression      0.63             68.47      55.05   \n",
       "0        Decision Tree Classifier      0.63             64.29      56.02   \n",
       "0  K-Nearest Neighbors Classifier      0.62             64.29      55.10   \n",
       "\n",
       "   Recall  F1 Score    AUC     Split  \n",
       "0   81.82      0.66  74.13  Training  \n",
       "0   79.05      0.66  68.96  Training  \n",
       "0   74.70      0.63  70.91  Training  "
      ]
     },
     "execution_count": 52,
     "metadata": {},
     "output_type": "execute_result"
    }
   ],
   "source": [
    "# compile scores for later comparision with other models\n",
    "knnClfSummary = pd.DataFrame({'Model': ['K-Nearest Neighbors Classifier'],\n",
    "                               'Accuracy': [round(accuracy_score(y_train, y_train_pred_80, normalize=True), 2)], # accuracy of 80% recall predictions\n",
    "                               'Mean CV Accuracy': [round(treeClfCVAccuracy.mean()*100, 2)], # mean CV accuracy of original model\n",
    "                               'Precision': [round(knnclf55Precision, 2)], # 55% precision\n",
    "                               'Recall': [round(knnclf80Recall, 2)], # 80% recall (really 74% in the case of this model)\n",
    "                               'F1 Score': [round(knnclf5580F1Score, 2)], # f1 score from above precision and recalls\n",
    "                               'AUC': [round(knnClfAUC, 2)],\n",
    "                               'Split': ['Training']})\n",
    "\n",
    "modelSummaries = modelSummaries.append(knnClfSummary)\n",
    "modelSummaries"
   ]
  },
  {
   "cell_type": "markdown",
   "metadata": {},
   "source": [
    "<h3> <font color='black' > 4. Random Forest Classifier with GridSearch CV</font> </h3> <blockquote> \n",
    "Random forest classifier creates a set of decision trees from randomly selected subset of training set. It then aggregates the votes from different decision trees to decide the final class of the test object. <br> <br>\n",
    "    Grid search is a tuning technique that attempts to compute the optimum values of hyperparameters. It is an exhaustive search that is performed on a the specific parameter values of a model. The model is also known as an estimator. Grid search exercise can save us time, effort and resources.</blockquote>"
   ]
  },
  {
   "cell_type": "code",
   "execution_count": 53,
   "metadata": {},
   "outputs": [
    {
     "data": {
      "text/plain": [
       "GridSearchCV(cv=3, estimator=RandomForestClassifier(),\n",
       "             param_grid={'criterion': ['gini', 'entropy'],\n",
       "                         'max_depth': [3, 5, 7, 10],\n",
       "                         'n_estimators': [50, 100, 200], 'n_jobs': [-1],\n",
       "                         'random_state': [0]})"
      ]
     },
     "execution_count": 53,
     "metadata": {},
     "output_type": "execute_result"
    }
   ],
   "source": [
    "# import algorithm and GridSearch CV\n",
    "from sklearn.ensemble import RandomForestClassifier\n",
    "from sklearn.model_selection import GridSearchCV\n",
    "\n",
    "# hyperparameter tuning dictionary\n",
    "rf_clf_params = {'n_estimators': [50, 100, 200],\n",
    "                 'criterion': ['gini', 'entropy'],\n",
    "                 'max_depth': [3, 5, 7, 10],\n",
    "                 'n_jobs': [-1],\n",
    "                 'random_state': [0]}\n",
    "\n",
    "# compile grid search fit with random forest, hyperparameters and 3-fold cross validation\n",
    "rf_clf_grid = GridSearchCV(RandomForestClassifier(), rf_clf_params, cv=3, verbose=0)\n",
    "\n",
    "# fit model to training data\n",
    "rf_clf_grid.fit(X_train, y_train)"
   ]
  },
  {
   "cell_type": "markdown",
   "metadata": {},
   "source": [
    "<h4> <font color='black' > Random Forest GridSearch Classifier Evaluation </font> </h4>"
   ]
  },
  {
   "cell_type": "code",
   "execution_count": 54,
   "metadata": {},
   "outputs": [
    {
     "name": "stdout",
     "output_type": "stream",
     "text": [
      "Best Parameters: {'criterion': 'entropy', 'max_depth': 10, 'n_estimators': 100, 'n_jobs': -1, 'random_state': 0}\n",
      "Best Parameters Refit Time (seconds): 0.12484097480773926\n",
      "Mean Cross-Validated Accuracy Score of best_estimator: 74.044\n"
     ]
    }
   ],
   "source": [
    "print(f'Best Parameters: {rf_clf_grid.best_params_}')\n",
    "print(f'Best Parameters Refit Time (seconds): {rf_clf_grid.refit_time_}') # not really needed here but good to know\n",
    "print(f'Mean Cross-Validated Accuracy Score of best_estimator: ' + \\\n",
    "      f'{rf_clf_grid.best_score_*100:.3f}')"
   ]
  },
  {
   "cell_type": "code",
   "execution_count": 55,
   "metadata": {},
   "outputs": [],
   "source": [
    "# extract best model from grid search\n",
    "rf_clf_grid_best = rf_clf_grid.best_estimator_"
   ]
  },
  {
   "cell_type": "markdown",
   "metadata": {},
   "source": [
    "<br>**Accuracy**"
   ]
  },
  {
   "cell_type": "code",
   "execution_count": 56,
   "metadata": {},
   "outputs": [
    {
     "name": "stdout",
     "output_type": "stream",
     "text": [
      "Random Forest GridSearch Classifier Accuracy:  99.65156794425087\n",
      "Random Forest GridSearch  Classifier 3-Fold Cross-Vaidation Accuracy : [0.72916667 0.72251309 0.76963351]\n"
     ]
    }
   ],
   "source": [
    "# score returns the mean accuracy on the given training data\n",
    "rfClfAccuracy = rf_clf_grid_best.score(X_train, y_train)*100\n",
    "print('Random Forest GridSearch Classifier Accuracy: ', rfClfAccuracy)\n",
    "\n",
    "# cross_val_score uses k-fold cross validation to return k accuracy scores. ensures the model didn't get lucky with the initial training set\n",
    "rfClfCVAccuracy = cross_val_score(rf_clf_grid_best, X_train, y_train, cv=3, scoring='accuracy')\n",
    "print('Random Forest GridSearch  Classifier 3-Fold Cross-Vaidation Accuracy :', rfClfCVAccuracy)"
   ]
  },
  {
   "cell_type": "markdown",
   "metadata": {},
   "source": [
    "<br>**Confusion Matrix**"
   ]
  },
  {
   "cell_type": "code",
   "execution_count": 57,
   "metadata": {},
   "outputs": [
    {
     "data": {
      "text/plain": [
       "array([[258,  63],\n",
       "       [ 86, 167]])"
      ]
     },
     "execution_count": 57,
     "metadata": {},
     "output_type": "execute_result"
    }
   ],
   "source": [
    "# cross_val_predict uses k-fold cross validation to return predictions instead of accuracy as we did above\n",
    "y_train_pred = cross_val_predict(rf_clf_grid_best, X_train, y_train, cv=3)\n",
    "\n",
    "# printing the confusion matrix from the above training predictions\n",
    "confusion_matrix(y_train, y_train_pred)"
   ]
  },
  {
   "cell_type": "markdown",
   "metadata": {},
   "source": [
    "**Interpreting the Confusion Matrix...**\n",
    "- 258 actually non-HGR tracks that were predicted to be non-HGR (TN)\n",
    "- 86 actually HGR tracks that were predicted to be non-HGR (FN)\n",
    "- 63 actually non-HGR tracks that were predicted to be HGR (FP)\n",
    "- 167 actually HGR tracks that were predicted to be HGR (TP)"
   ]
  },
  {
   "cell_type": "markdown",
   "metadata": {},
   "source": [
    "<br>**Precision, Recall & F1 Score**"
   ]
  },
  {
   "cell_type": "code",
   "execution_count": 58,
   "metadata": {},
   "outputs": [
    {
     "name": "stdout",
     "output_type": "stream",
     "text": [
      "Random Forest GridSearch Classifier Precision:  72.60869565217392\n",
      "Random Forest GridSearch Classifier Recall:  66.00790513833992\n",
      "Random Forest GridSearch Classifier F1 Score:  0.6915113871635611\n"
     ]
    }
   ],
   "source": [
    "# returns precision and recall scores\n",
    "rfClfPrecision = precision_score(y_train, y_train_pred)*100\n",
    "rfClfRecall = recall_score(y_train, y_train_pred)*100\n",
    "rfClfF1Score = f1_score(y_train, y_train_pred)\n",
    "print('Random Forest GridSearch Classifier Precision: ', rfClfPrecision)\n",
    "print('Random Forest GridSearch Classifier Recall: ', rfClfRecall)\n",
    "print('Random Forest GridSearch Classifier F1 Score: ', rfClfF1Score)"
   ]
  },
  {
   "cell_type": "markdown",
   "metadata": {},
   "source": [
    "**Interpreting Precision, Recall & F1 Score...**\n",
    "- When the model claims a track fits the vibe of HGR, it is correct 72.6% of the time\n",
    "- The model detects 66% of all HGR tracks it sees\n",
    "- The model has an F1 Score of 0.69 / 1.0"
   ]
  },
  {
   "cell_type": "markdown",
   "metadata": {},
   "source": [
    "<br> **Adjusting Precision & Recall Using a Desired Threshold**"
   ]
  },
  {
   "cell_type": "code",
   "execution_count": 59,
   "metadata": {},
   "outputs": [
    {
     "data": {
      "image/png": "[encoded data removed]",
      "text/plain": [
       "<Figure size 432x288 with 1 Axes>"
      ]
     },
     "metadata": {
      "needs_background": "light"
     },
     "output_type": "display_data"
    }
   ],
   "source": [
    "# deciding on the threshold using cross_val_predict\n",
    "y_scores = cross_val_predict(rf_clf_grid_best, X_train, y_train, cv=3, method='predict_proba') # random forest classifier has no decision_function attribute so we'll use predict_proba\n",
    "y_scores = y_scores[:,1] # predict_proba returns a 2D array of the probability of 0 and then 1. here we're selcting the probability of 1\n",
    "\n",
    "# with these scores we can now plot a precision recall curve\n",
    "precisions, recalls, thresholds = precision_recall_curve(y_train, y_scores)\n",
    "\n",
    "# call function from earlier to plot curve\n",
    "plot_precision_recall_vs_threshold(precisions, recalls, thresholds)\n",
    "plt.show()"
   ]
  },
  {
   "cell_type": "code",
   "execution_count": 60,
   "metadata": {},
   "outputs": [
    {
     "data": {
      "image/png": "[encoded data removed]",
      "text/plain": [
       "<Figure size 720x432 with 1 Axes>"
      ]
     },
     "metadata": {
      "needs_background": "light"
     },
     "output_type": "display_data"
    }
   ],
   "source": [
    "# plot precision against recall using function from earlier\n",
    "plt.figure(figsize=(10, 6))\n",
    "plot_precision_vs_recall(precisions, recalls)\n",
    "plt.show()"
   ]
  },
  {
   "cell_type": "code",
   "execution_count": 61,
   "metadata": {},
   "outputs": [
    {
     "data": {
      "text/plain": [
       "79.44664031620553"
      ]
     },
     "execution_count": 61,
     "metadata": {},
     "output_type": "execute_result"
    }
   ],
   "source": [
    "# again, we want the lowest threshold that gives us ~80% recall\n",
    "recall_63_precision = recalls[np.argmax(precisions >= 0.63)]\n",
    "threshold_80_recall = thresholds[np.argmax(precisions >= 0.63)] # 0.41\n",
    "\n",
    "# making new predictions with our defined threshold\n",
    "y_train_pred_80 = (y_scores >= threshold_80_recall)\n",
    "\n",
    "# viewing our model's new recall on the training set\n",
    "recall_score(y_train, y_train_pred_80)*100"
   ]
  },
  {
   "cell_type": "code",
   "execution_count": 62,
   "metadata": {},
   "outputs": [
    {
     "data": {
      "text/plain": [
       "0.7"
      ]
     },
     "execution_count": 62,
     "metadata": {},
     "output_type": "execute_result"
    }
   ],
   "source": [
    "# new accuracy score with 80% recall\n",
    "round(accuracy_score(y_train, y_train_pred_80, normalize=True), 2)"
   ]
  },
  {
   "cell_type": "code",
   "execution_count": 63,
   "metadata": {},
   "outputs": [
    {
     "data": {
      "text/plain": [
       "array([[203, 118],\n",
       "       [ 52, 201]])"
      ]
     },
     "execution_count": 63,
     "metadata": {},
     "output_type": "execute_result"
    }
   ],
   "source": [
    "# printing the confusion matrix for our new predictions\n",
    "confusion_matrix(y_train, y_train_pred_80)"
   ]
  },
  {
   "cell_type": "markdown",
   "metadata": {},
   "source": [
    "**Interpreting the New Confusion Matrix...**\n",
    "- 203 actually non-HGR tracks that were predicted to be non-HGR (TN)\n",
    "- 52, actually HGR tracks that were predicted to be non-HGR (FN)\n",
    "- 118 actually non-HGR tracks that were predicted to be HGR (FP)\n",
    "- 201 actually HGR tracks that were predicted to be HGR (TP)"
   ]
  },
  {
   "cell_type": "code",
   "execution_count": 64,
   "metadata": {},
   "outputs": [
    {
     "name": "stdout",
     "output_type": "stream",
     "text": [
      "Random Forest GridSearch Classifier 55% Precision:  63.00940438871473\n",
      "Random Forest GridSearch Classifier 80% Recall:  79.44664031620553\n",
      "Random Forest GridSearch Classifier 63/80 F1 Score:  0.7027972027972027\n"
     ]
    }
   ],
   "source": [
    "# returns precision and recall scores for our new predictions\n",
    "rfclf63Precision = precision_score(y_train, y_train_pred_80)*100\n",
    "rfclf80Recall = recall_score(y_train, y_train_pred_80)*100\n",
    "rfclf6380F1Score = f1_score(y_train, y_train_pred_80)\n",
    "print('Random Forest GridSearch Classifier 55% Precision: ', rfclf63Precision)\n",
    "print('Random Forest GridSearch Classifier 80% Recall: ', rfclf80Recall)\n",
    "print('Random Forest GridSearch Classifier 63/80 F1 Score: ', rfclf6380F1Score)"
   ]
  },
  {
   "cell_type": "markdown",
   "metadata": {},
   "source": [
    "**Interpreting Precision, Recall & F1 Score...**\n",
    "- When the model claims a track fits the vibe of HGR, it is correct 63% of the time\n",
    "- The model detects 79% of all HGR tracks it sees\n",
    "- The model has an F1 Score of 0.70 / 1.0"
   ]
  },
  {
   "cell_type": "markdown",
   "metadata": {},
   "source": [
    "<br>**ROC Curve & AUC**"
   ]
  },
  {
   "cell_type": "code",
   "execution_count": 65,
   "metadata": {},
   "outputs": [
    {
     "data": {
      "image/png": "[encoded data removed]",
      "text/plain": [
       "<Figure size 576x432 with 1 Axes>"
      ]
     },
     "metadata": {
      "needs_background": "light"
     },
     "output_type": "display_data"
    }
   ],
   "source": [
    "fpr, tpr, thresholds = roc_curve(y_train, y_scores)\n",
    "\n",
    "plt.figure(figsize=(8, 6))\n",
    "plot_roc_curve(fpr, tpr)\n",
    "fpr_63 = fpr[np.argmax(tpr >= recall_63_precision)]  \n",
    "plt.plot([fpr_63, fpr_63], [0., recall_63_precision], 'r:') \n",
    "plt.plot([0.0, fpr_63], [recall_63_precision, recall_63_precision], 'r:')\n",
    "plt.plot([fpr_63], [recall_63_precision], 'ro')\n",
    "plt.show()"
   ]
  },
  {
   "cell_type": "code",
   "execution_count": 66,
   "metadata": {},
   "outputs": [
    {
     "name": "stdout",
     "output_type": "stream",
     "text": [
      "Random Forest GridSearch Classifier AUC:  79.26317215224162\n"
     ]
    }
   ],
   "source": [
    "# one way to compare ROC curves is by measuring their AUC (area under the curve)\n",
    "rfClfAUC = roc_auc_score(y_train, y_scores)*100\n",
    "print('Random Forest GridSearch Classifier AUC: ', rfClfAUC)"
   ]
  },
  {
   "cell_type": "code",
   "execution_count": 67,
   "metadata": {},
   "outputs": [
    {
     "data": {
      "text/html": [
       "<div>\n",
       "<style scoped>\n",
       "    .dataframe tbody tr th:only-of-type {\n",
       "        vertical-align: middle;\n",
       "    }\n",
       "\n",
       "    .dataframe tbody tr th {\n",
       "        vertical-align: top;\n",
       "    }\n",
       "\n",
       "    .dataframe thead th {\n",
       "        text-align: right;\n",
       "    }\n",
       "</style>\n",
       "<table border=\"1\" class=\"dataframe\">\n",
       "  <thead>\n",
       "    <tr style=\"text-align: right;\">\n",
       "      <th></th>\n",
       "      <th>Model</th>\n",
       "      <th>Accuracy</th>\n",
       "      <th>Mean CV Accuracy</th>\n",
       "      <th>Precision</th>\n",
       "      <th>Recall</th>\n",
       "      <th>F1 Score</th>\n",
       "      <th>AUC</th>\n",
       "      <th>Split</th>\n",
       "    </tr>\n",
       "  </thead>\n",
       "  <tbody>\n",
       "    <tr>\n",
       "      <th>0</th>\n",
       "      <td>Logistic Regression</td>\n",
       "      <td>0.63</td>\n",
       "      <td>68.47</td>\n",
       "      <td>55.05</td>\n",
       "      <td>81.82</td>\n",
       "      <td>0.66</td>\n",
       "      <td>74.13</td>\n",
       "      <td>Training</td>\n",
       "    </tr>\n",
       "    <tr>\n",
       "      <th>0</th>\n",
       "      <td>Decision Tree Classifier</td>\n",
       "      <td>0.63</td>\n",
       "      <td>64.29</td>\n",
       "      <td>56.02</td>\n",
       "      <td>79.05</td>\n",
       "      <td>0.66</td>\n",
       "      <td>68.96</td>\n",
       "      <td>Training</td>\n",
       "    </tr>\n",
       "    <tr>\n",
       "      <th>0</th>\n",
       "      <td>K-Nearest Neighbors Classifier</td>\n",
       "      <td>0.62</td>\n",
       "      <td>64.29</td>\n",
       "      <td>55.10</td>\n",
       "      <td>74.70</td>\n",
       "      <td>0.63</td>\n",
       "      <td>70.91</td>\n",
       "      <td>Training</td>\n",
       "    </tr>\n",
       "    <tr>\n",
       "      <th>0</th>\n",
       "      <td>Random Forest GridSearch Classifier</td>\n",
       "      <td>0.70</td>\n",
       "      <td>74.04</td>\n",
       "      <td>63.01</td>\n",
       "      <td>79.45</td>\n",
       "      <td>0.70</td>\n",
       "      <td>79.26</td>\n",
       "      <td>Training</td>\n",
       "    </tr>\n",
       "  </tbody>\n",
       "</table>\n",
       "</div>"
      ],
      "text/plain": [
       "                                 Model  Accuracy  Mean CV Accuracy  Precision  \\\n",
       "0                  Logistic Regression      0.63             68.47      55.05   \n",
       "0             Decision Tree Classifier      0.63             64.29      56.02   \n",
       "0       K-Nearest Neighbors Classifier      0.62             64.29      55.10   \n",
       "0  Random Forest GridSearch Classifier      0.70             74.04      63.01   \n",
       "\n",
       "   Recall  F1 Score    AUC     Split  \n",
       "0   81.82      0.66  74.13  Training  \n",
       "0   79.05      0.66  68.96  Training  \n",
       "0   74.70      0.63  70.91  Training  \n",
       "0   79.45      0.70  79.26  Training  "
      ]
     },
     "execution_count": 67,
     "metadata": {},
     "output_type": "execute_result"
    }
   ],
   "source": [
    "# compile scores for later comparision with other models\n",
    "rfClfSummary = pd.DataFrame({'Model': ['Random Forest GridSearch Classifier'],\n",
    "                               'Accuracy': [round(accuracy_score(y_train, y_train_pred_80, normalize=True), 2)], # accuracy of 80% recall predictions\n",
    "                               'Mean CV Accuracy': [round(rfClfCVAccuracy.mean()*100, 2)], # mean CV accuracy of original model\n",
    "                               'Precision': [round(rfclf63Precision, 2)], # 63% precision\n",
    "                               'Recall': [round(rfclf80Recall, 2)], # 80% recall (really 79% in the case of this model)\n",
    "                               'F1 Score': [round(rfclf6380F1Score, 2)], # f1 score from above precision and recalls\n",
    "                               'AUC': [round(rfClfAUC, 2)],\n",
    "                               'Split': ['Training']})\n",
    "\n",
    "modelSummaries = modelSummaries.append(rfClfSummary)\n",
    "modelSummaries"
   ]
  },
  {
   "cell_type": "markdown",
   "metadata": {},
   "source": [
    "<br> <h2> Model Testing </h2> <blockquote> <i> NOTE: We don't necessarily want 100% accuracy or a 1.0 F1 Score - the point of this model is to RECOMMEND songs that we MIGHT want to add to the playlist. The ultimate decision is up to us, but this model will at least give us a narrowed list of tracks we should give a listen. </i> </blockquote>"
   ]
  },
  {
   "cell_type": "markdown",
   "metadata": {},
   "source": [
    "**Logistic Regression**"
   ]
  },
  {
   "cell_type": "code",
   "execution_count": 68,
   "metadata": {},
   "outputs": [],
   "source": [
    "# since we cant access the threshold directly, we'll need to retreive the testing y_scores and compare them to the threshold we set during training\n",
    "y_scores = cross_val_predict(logReg, X_test, y_test, cv=3, method='decision_function') \n",
    "threshold = -0.59\n",
    "y_test_pred = (y_scores > threshold) # compares our predictions to the threshold\n",
    "y_test_pred_precision = precision_score(y_test, y_test_pred)*100\n",
    "y_test_pred_recall =recall_score(y_test, y_test_pred)*100\n",
    "y_test_pred_f1 = f1_score(y_test, y_test_pred)\n",
    "y_test_pred_AUC = roc_auc_score(y_test, y_scores)*100\n",
    "y_test_pred_accuracy = logReg.score(X_test, y_test_pred)*100\n",
    "\n",
    "logRegTestSummary = pd.DataFrame({'Model': ['Logistic Regression'],\n",
    "                                  'Accuracy': [round(y_test_pred_accuracy, 2)],\n",
    "                                  'Mean CV Accuracy': ['NA'],\n",
    "                                  'Precision': [round(y_test_pred_precision, 2)],\n",
    "                                  'Recall': [round(y_test_pred_recall, 2)],\n",
    "                                  'F1 Score': [round(y_test_pred_f1, 2)],\n",
    "                                  'AUC': [round(y_test_pred_AUC, 2)],\n",
    "                                  'Split': ['Testing']})"
   ]
  },
  {
   "cell_type": "markdown",
   "metadata": {},
   "source": [
    "<br>**Decision Tree Classifier**"
   ]
  },
  {
   "cell_type": "code",
   "execution_count": 69,
   "metadata": {},
   "outputs": [],
   "source": [
    "# since we cant access the threshold directly, we'll need to retreive the testing y_scores and compare them to the threshold we set during training\n",
    "y_scores = cross_val_predict(tree_clf, X_test, y_test, cv=3, method='predict_proba')[:,1] \n",
    "threshold = 0.33\n",
    "y_test_pred = (y_scores > threshold) # compares our predictions to the threshold\n",
    "y_test_pred_precision = precision_score(y_test, y_test_pred)*100\n",
    "y_test_pred_recall =recall_score(y_test, y_test_pred)*100\n",
    "y_test_pred_f1 = f1_score(y_test, y_test_pred)\n",
    "y_test_pred_AUC = roc_auc_score(y_test, y_scores)*100\n",
    "y_test_pred_accuracy = logReg.score(X_test, y_test_pred)*100\n",
    "\n",
    "treeClfTestSummary = pd.DataFrame({'Model': ['Decision Tree Classifier'],\n",
    "                                  'Accuracy': [round(y_test_pred_accuracy, 2)],\n",
    "                                  'Mean CV Accuracy': ['NA'],\n",
    "                                  'Precision': [round(y_test_pred_precision, 2)],\n",
    "                                  'Recall': [round(y_test_pred_recall, 2)],\n",
    "                                  'F1 Score': [round(y_test_pred_f1, 2)],\n",
    "                                  'AUC': [round(y_test_pred_AUC, 2)],\n",
    "                                  'Split': ['Testing']})\n",
    "modelTestingSummaries = logRegTestSummary.append(treeClfTestSummary)"
   ]
  },
  {
   "cell_type": "markdown",
   "metadata": {},
   "source": [
    "<br>**K-Nearest Neighbors Classifier**"
   ]
  },
  {
   "cell_type": "code",
   "execution_count": 70,
   "metadata": {},
   "outputs": [],
   "source": [
    "# since we cant access the threshold directly, we'll need to retreive the testing y_scores and compare them to the threshold we set during training\n",
    "y_scores = cross_val_predict(knn_clf, X_test, y_test, cv=3, method='predict_proba')[:,1] \n",
    "threshold = 0.64\n",
    "y_test_pred = (y_scores > threshold) # compares our predictions to the threshold\n",
    "y_test_pred_precision = precision_score(y_test, y_test_pred)*100\n",
    "y_test_pred_recall =recall_score(y_test, y_test_pred)*100\n",
    "y_test_pred_f1 = f1_score(y_test, y_test_pred)\n",
    "y_test_pred_AUC = roc_auc_score(y_test, y_scores)*100\n",
    "y_test_pred_accuracy = logReg.score(X_test, y_test_pred)*100\n",
    "\n",
    "knnClfTestSummary = pd.DataFrame({'Model': ['K-Nearest Neighbors Classifier'],\n",
    "                                  'Accuracy': [round(y_test_pred_accuracy, 2)],\n",
    "                                  'Mean CV Accuracy': ['NA'],\n",
    "                                  'Precision': [round(y_test_pred_precision, 2)],\n",
    "                                  'Recall': [round(y_test_pred_recall, 2)],\n",
    "                                  'F1 Score': [round(y_test_pred_f1, 2)],\n",
    "                                  'AUC': [round(y_test_pred_AUC, 2)],\n",
    "                                  'Split': ['Testing']})\n",
    "modelTestingSummaries = modelTestingSummaries.append(knnClfTestSummary)"
   ]
  },
  {
   "cell_type": "markdown",
   "metadata": {},
   "source": [
    "<br>**Random Forest GridSearch Classifier**"
   ]
  },
  {
   "cell_type": "code",
   "execution_count": 71,
   "metadata": {},
   "outputs": [],
   "source": [
    "# since we cant access the threshold directly, we'll need to retreive the testing y_scores and compare them to the threshold we set during training\n",
    "y_scores = cross_val_predict(rf_clf_grid_best, X_test, y_test, cv=3, method='predict_proba')[:,1] \n",
    "threshold = 0.41\n",
    "y_test_pred = (y_scores > threshold) # compares our predictions to the threshold\n",
    "y_test_pred_precision = precision_score(y_test, y_test_pred)*100\n",
    "y_test_pred_recall =recall_score(y_test, y_test_pred)*100\n",
    "y_test_pred_f1 = f1_score(y_test, y_test_pred)\n",
    "y_test_pred_AUC = roc_auc_score(y_test, y_scores)*100\n",
    "y_test_pred_accuracy = logReg.score(X_test, y_test_pred)*100\n",
    "\n",
    "knnClfTestSummary = pd.DataFrame({'Model': ['Random Forest GridSearch Classifier'],\n",
    "                                  'Accuracy': [round(y_test_pred_accuracy, 2)],\n",
    "                                  'Mean CV Accuracy': ['NA'],\n",
    "                                  'Precision': [round(y_test_pred_precision, 2)],\n",
    "                                  'Recall': [round(y_test_pred_recall, 2)],\n",
    "                                  'F1 Score': [round(y_test_pred_f1, 2)],\n",
    "                                  'AUC': [round(y_test_pred_AUC, 2)],\n",
    "                                  'Split': ['Testing']})\n",
    "modelTestingSummaries = modelTestingSummaries.append(knnClfTestSummary)"
   ]
  },
  {
   "cell_type": "code",
   "execution_count": 72,
   "metadata": {},
   "outputs": [
    {
     "data": {
      "text/html": [
       "<div>\n",
       "<style scoped>\n",
       "    .dataframe tbody tr th:only-of-type {\n",
       "        vertical-align: middle;\n",
       "    }\n",
       "\n",
       "    .dataframe tbody tr th {\n",
       "        vertical-align: top;\n",
       "    }\n",
       "\n",
       "    .dataframe thead th {\n",
       "        text-align: right;\n",
       "    }\n",
       "</style>\n",
       "<table border=\"1\" class=\"dataframe\">\n",
       "  <thead>\n",
       "    <tr style=\"text-align: right;\">\n",
       "      <th></th>\n",
       "      <th>Model</th>\n",
       "      <th>Accuracy</th>\n",
       "      <th>Mean CV Accuracy</th>\n",
       "      <th>Precision</th>\n",
       "      <th>Recall</th>\n",
       "      <th>F1 Score</th>\n",
       "      <th>AUC</th>\n",
       "      <th>Split</th>\n",
       "    </tr>\n",
       "  </thead>\n",
       "  <tbody>\n",
       "    <tr>\n",
       "      <th>0</th>\n",
       "      <td>Logistic Regression</td>\n",
       "      <td>0.63</td>\n",
       "      <td>68.47</td>\n",
       "      <td>55.05</td>\n",
       "      <td>81.82</td>\n",
       "      <td>0.66</td>\n",
       "      <td>74.13</td>\n",
       "      <td>Training</td>\n",
       "    </tr>\n",
       "    <tr>\n",
       "      <th>1</th>\n",
       "      <td>Decision Tree Classifier</td>\n",
       "      <td>0.63</td>\n",
       "      <td>64.29</td>\n",
       "      <td>56.02</td>\n",
       "      <td>79.05</td>\n",
       "      <td>0.66</td>\n",
       "      <td>68.96</td>\n",
       "      <td>Training</td>\n",
       "    </tr>\n",
       "    <tr>\n",
       "      <th>2</th>\n",
       "      <td>K-Nearest Neighbors Classifier</td>\n",
       "      <td>0.62</td>\n",
       "      <td>64.29</td>\n",
       "      <td>55.10</td>\n",
       "      <td>74.70</td>\n",
       "      <td>0.63</td>\n",
       "      <td>70.91</td>\n",
       "      <td>Training</td>\n",
       "    </tr>\n",
       "    <tr>\n",
       "      <th>3</th>\n",
       "      <td>Random Forest GridSearch Classifier</td>\n",
       "      <td>0.70</td>\n",
       "      <td>74.04</td>\n",
       "      <td>63.01</td>\n",
       "      <td>79.45</td>\n",
       "      <td>0.70</td>\n",
       "      <td>79.26</td>\n",
       "      <td>Training</td>\n",
       "    </tr>\n",
       "    <tr>\n",
       "      <th>4</th>\n",
       "      <td>Logistic Regression</td>\n",
       "      <td>38.71</td>\n",
       "      <td>NA</td>\n",
       "      <td>46.67</td>\n",
       "      <td>100.00</td>\n",
       "      <td>0.64</td>\n",
       "      <td>35.29</td>\n",
       "      <td>Testing</td>\n",
       "    </tr>\n",
       "    <tr>\n",
       "      <th>5</th>\n",
       "      <td>Decision Tree Classifier</td>\n",
       "      <td>51.61</td>\n",
       "      <td>NA</td>\n",
       "      <td>43.75</td>\n",
       "      <td>50.00</td>\n",
       "      <td>0.47</td>\n",
       "      <td>48.53</td>\n",
       "      <td>Testing</td>\n",
       "    </tr>\n",
       "    <tr>\n",
       "      <th>6</th>\n",
       "      <td>K-Nearest Neighbors Classifier</td>\n",
       "      <td>38.71</td>\n",
       "      <td>NA</td>\n",
       "      <td>41.67</td>\n",
       "      <td>35.71</td>\n",
       "      <td>0.38</td>\n",
       "      <td>40.34</td>\n",
       "      <td>Testing</td>\n",
       "    </tr>\n",
       "    <tr>\n",
       "      <th>7</th>\n",
       "      <td>Random Forest GridSearch Classifier</td>\n",
       "      <td>41.94</td>\n",
       "      <td>NA</td>\n",
       "      <td>34.78</td>\n",
       "      <td>57.14</td>\n",
       "      <td>0.43</td>\n",
       "      <td>36.97</td>\n",
       "      <td>Testing</td>\n",
       "    </tr>\n",
       "  </tbody>\n",
       "</table>\n",
       "</div>"
      ],
      "text/plain": [
       "                                 Model  Accuracy Mean CV Accuracy  Precision  \\\n",
       "0                  Logistic Regression      0.63            68.47      55.05   \n",
       "1             Decision Tree Classifier      0.63            64.29      56.02   \n",
       "2       K-Nearest Neighbors Classifier      0.62            64.29      55.10   \n",
       "3  Random Forest GridSearch Classifier      0.70            74.04      63.01   \n",
       "4                  Logistic Regression     38.71               NA      46.67   \n",
       "5             Decision Tree Classifier     51.61               NA      43.75   \n",
       "6       K-Nearest Neighbors Classifier     38.71               NA      41.67   \n",
       "7  Random Forest GridSearch Classifier     41.94               NA      34.78   \n",
       "\n",
       "   Recall  F1 Score    AUC     Split  \n",
       "0   81.82      0.66  74.13  Training  \n",
       "1   79.05      0.66  68.96  Training  \n",
       "2   74.70      0.63  70.91  Training  \n",
       "3   79.45      0.70  79.26  Training  \n",
       "4  100.00      0.64  35.29   Testing  \n",
       "5   50.00      0.47  48.53   Testing  \n",
       "6   35.71      0.38  40.34   Testing  \n",
       "7   57.14      0.43  36.97   Testing  "
      ]
     },
     "execution_count": 72,
     "metadata": {},
     "output_type": "execute_result"
    }
   ],
   "source": [
    "# combine testing results\n",
    "summaries = pd.concat([modelSummaries, modelTestingSummaries],ignore_index=True)\n",
    "summaries"
   ]
  },
  {
   "cell_type": "code",
   "execution_count": 73,
   "metadata": {},
   "outputs": [],
   "source": [
    "import seaborn as sns\n",
    "import matplotlib.pyplot as plt"
   ]
  },
  {
   "cell_type": "code",
   "execution_count": 74,
   "metadata": {},
   "outputs": [
    {
     "data": {
      "image/png": "[encoded data removed]",
      "text/plain": [
       "<Figure size 1080x360 with 1 Axes>"
      ]
     },
     "metadata": {
      "needs_background": "light"
     },
     "output_type": "display_data"
    }
   ],
   "source": [
    "plt.figure(figsize=(15,5))\n",
    "plot = sns.barplot(data=summaries,\n",
    "           x='Model',\n",
    "           y='F1 Score',\n",
    "           hue='Split',\n",
    "          palette='BuGn')\n",
    "plot.set(ylim=(0, 1))\n",
    "plot.set_xlabel('')\n",
    "plot.set_ylabel('')\n",
    "plot.text(x=0.5, y=1.1, s='F1 Score', fontsize=16, weight='bold', ha='center', va='bottom', transform=plot.transAxes)\n",
    "plot.text(x=0.5, y=1.05, s='Training vs Testing Sets', fontsize=10, alpha=0.80, ha='center', va='bottom', transform=plot.transAxes)\n",
    "for p in plot.patches:\n",
    "    plot.annotate(format(p.get_height(), '.1f'), \n",
    "                   (p.get_x() + p.get_width() / 2., p.get_height()), \n",
    "                   ha = 'center', va = 'center', \n",
    "                   xytext = (0, 9), \n",
    "                   textcoords = 'offset points')"
   ]
  },
  {
   "cell_type": "code",
   "execution_count": 75,
   "metadata": {},
   "outputs": [
    {
     "data": {
      "image/png": "[encoded data removed]",
      "text/plain": [
       "<Figure size 1080x360 with 1 Axes>"
      ]
     },
     "metadata": {
      "needs_background": "light"
     },
     "output_type": "display_data"
    }
   ],
   "source": [
    "plt.figure(figsize=(15,5))\n",
    "plot = sns.barplot(data=summaries,\n",
    "           x='Model',\n",
    "           y='AUC',\n",
    "           hue='Split',\n",
    "          palette='BuGn')\n",
    "plot.set(ylim=(0, 100))\n",
    "plot.set_xlabel('')\n",
    "plot.set_ylabel('')\n",
    "plot.text(x=0.5, y=1.1, s='AUC', fontsize=16, weight='bold', ha='center', va='bottom', transform=plot.transAxes)\n",
    "plot.text(x=0.5, y=1.05, s='Training vs Testing Sets', fontsize=10, alpha=0.80, ha='center', va='bottom', transform=plot.transAxes)\n",
    "for p in plot.patches:\n",
    "    plot.annotate(format(p.get_height(), '.1f'), \n",
    "                   (p.get_x() + p.get_width() / 2., p.get_height()), \n",
    "                   ha = 'center', va = 'center', \n",
    "                   xytext = (0, 9), \n",
    "                   textcoords = 'offset points')"
   ]
  },
  {
   "cell_type": "code",
   "execution_count": 76,
   "metadata": {},
   "outputs": [
    {
     "data": {
      "image/png": "[encoded data removed]",
      "text/plain": [
       "<Figure size 1080x360 with 1 Axes>"
      ]
     },
     "metadata": {
      "needs_background": "light"
     },
     "output_type": "display_data"
    }
   ],
   "source": [
    "plt.figure(figsize=(15,5))\n",
    "plot = sns.barplot(data=summaries,\n",
    "           x='Model',\n",
    "           y='Recall',\n",
    "           hue='Split',\n",
    "          palette='BuGn')\n",
    "plot.set(ylim=(0, 110))\n",
    "plot.set_xlabel('')\n",
    "plot.set_ylabel('')\n",
    "plot.text(x=0.5, y=1.1, s='Recall', fontsize=16, weight='bold', ha='center', va='bottom', transform=plot.transAxes)\n",
    "plot.text(x=0.5, y=1.05, s='Training vs Testing Sets', fontsize=10, alpha=0.80, ha='center', va='bottom', transform=plot.transAxes)\n",
    "for p in plot.patches:\n",
    "    plot.annotate(format(p.get_height(), '.1f'), \n",
    "                   (p.get_x() + p.get_width() / 2., p.get_height()), \n",
    "                   ha = 'center', va = 'center', \n",
    "                   xytext = (0, 9), \n",
    "                   textcoords = 'offset points')"
   ]
  },
  {
   "cell_type": "markdown",
   "metadata": {},
   "source": [
    "<br> <h2> Predict On More New Data! </h2>"
   ]
  },
  {
   "cell_type": "markdown",
   "metadata": {},
   "source": [
    "<blockquote> My friends and I all selected two songs - one we WOULD add to <i> Hungry Guys Radio </i> and another we WOULD NOT. Now we can see if our model agrees :) </blockquote>"
   ]
  },
  {
   "cell_type": "code",
   "execution_count": 77,
   "metadata": {},
   "outputs": [
    {
     "data": {
      "text/html": [
       "<div>\n",
       "<style scoped>\n",
       "    .dataframe tbody tr th:only-of-type {\n",
       "        vertical-align: middle;\n",
       "    }\n",
       "\n",
       "    .dataframe tbody tr th {\n",
       "        vertical-align: top;\n",
       "    }\n",
       "\n",
       "    .dataframe thead th {\n",
       "        text-align: right;\n",
       "    }\n",
       "</style>\n",
       "<table border=\"1\" class=\"dataframe\">\n",
       "  <thead>\n",
       "    <tr style=\"text-align: right;\">\n",
       "      <th></th>\n",
       "      <th>ARTIST</th>\n",
       "      <th>ALBUM</th>\n",
       "      <th>TRACK_NAME</th>\n",
       "      <th>DANCEABILITY</th>\n",
       "      <th>ENERGY</th>\n",
       "      <th>LOUDNESS</th>\n",
       "      <th>SPEECHINESS</th>\n",
       "      <th>INSTRUMENTALNESS</th>\n",
       "      <th>LIVENESS</th>\n",
       "      <th>VALENCE</th>\n",
       "      <th>ACOUSTICNESS</th>\n",
       "      <th>EXPLICIT</th>\n",
       "      <th>POPULARITY</th>\n",
       "      <th>TEMPO</th>\n",
       "      <th>DURATION_MIN</th>\n",
       "      <th>PLAYLIST</th>\n",
       "      <th>HGR</th>\n",
       "    </tr>\n",
       "  </thead>\n",
       "  <tbody>\n",
       "    <tr>\n",
       "      <th>0</th>\n",
       "      <td>NAV</td>\n",
       "      <td>Emergency Tsunami</td>\n",
       "      <td>Vetement Socks</td>\n",
       "      <td>0.948</td>\n",
       "      <td>0.688</td>\n",
       "      <td>-6.026</td>\n",
       "      <td>0.0756</td>\n",
       "      <td>0.000000</td>\n",
       "      <td>0.0818</td>\n",
       "      <td>0.783</td>\n",
       "      <td>0.08250</td>\n",
       "      <td>1</td>\n",
       "      <td>53</td>\n",
       "      <td>129.946</td>\n",
       "      <td>2.584767</td>\n",
       "      <td>ML Test</td>\n",
       "      <td>0</td>\n",
       "    </tr>\n",
       "    <tr>\n",
       "      <th>1</th>\n",
       "      <td>Klingande</td>\n",
       "      <td>Jubel</td>\n",
       "      <td>Jubel</td>\n",
       "      <td>0.698</td>\n",
       "      <td>0.476</td>\n",
       "      <td>-7.459</td>\n",
       "      <td>0.0417</td>\n",
       "      <td>0.238000</td>\n",
       "      <td>0.0542</td>\n",
       "      <td>0.181</td>\n",
       "      <td>0.18500</td>\n",
       "      <td>0</td>\n",
       "      <td>38</td>\n",
       "      <td>124.986</td>\n",
       "      <td>4.727300</td>\n",
       "      <td>ML Test</td>\n",
       "      <td>1</td>\n",
       "    </tr>\n",
       "    <tr>\n",
       "      <th>2</th>\n",
       "      <td>Two Door Cinema Club</td>\n",
       "      <td>Tourist History</td>\n",
       "      <td>Something Good Can Work</td>\n",
       "      <td>0.648</td>\n",
       "      <td>0.833</td>\n",
       "      <td>-5.321</td>\n",
       "      <td>0.0327</td>\n",
       "      <td>0.000787</td>\n",
       "      <td>0.1780</td>\n",
       "      <td>0.640</td>\n",
       "      <td>0.00583</td>\n",
       "      <td>0</td>\n",
       "      <td>59</td>\n",
       "      <td>119.935</td>\n",
       "      <td>2.736450</td>\n",
       "      <td>ML Test</td>\n",
       "      <td>1</td>\n",
       "    </tr>\n",
       "    <tr>\n",
       "      <th>3</th>\n",
       "      <td>Chelsea Cutler</td>\n",
       "      <td>Sleeping With Roses</td>\n",
       "      <td>The Reason</td>\n",
       "      <td>0.654</td>\n",
       "      <td>0.606</td>\n",
       "      <td>-8.576</td>\n",
       "      <td>0.0717</td>\n",
       "      <td>0.000056</td>\n",
       "      <td>0.3100</td>\n",
       "      <td>0.358</td>\n",
       "      <td>0.09910</td>\n",
       "      <td>1</td>\n",
       "      <td>14</td>\n",
       "      <td>90.058</td>\n",
       "      <td>3.077783</td>\n",
       "      <td>ML Test</td>\n",
       "      <td>0</td>\n",
       "    </tr>\n",
       "    <tr>\n",
       "      <th>4</th>\n",
       "      <td>Jack Johnson</td>\n",
       "      <td>Upside Down</td>\n",
       "      <td>Upside Down</td>\n",
       "      <td>0.792</td>\n",
       "      <td>0.647</td>\n",
       "      <td>-8.314</td>\n",
       "      <td>0.0450</td>\n",
       "      <td>0.000223</td>\n",
       "      <td>0.1320</td>\n",
       "      <td>0.694</td>\n",
       "      <td>0.25500</td>\n",
       "      <td>0</td>\n",
       "      <td>70</td>\n",
       "      <td>102.477</td>\n",
       "      <td>3.492450</td>\n",
       "      <td>ML Test</td>\n",
       "      <td>1</td>\n",
       "    </tr>\n",
       "    <tr>\n",
       "      <th>5</th>\n",
       "      <td>The War On Drugs</td>\n",
       "      <td>A Deeper Understanding</td>\n",
       "      <td>Thinking of a Place</td>\n",
       "      <td>0.481</td>\n",
       "      <td>0.632</td>\n",
       "      <td>-7.117</td>\n",
       "      <td>0.0333</td>\n",
       "      <td>0.081700</td>\n",
       "      <td>0.1160</td>\n",
       "      <td>0.156</td>\n",
       "      <td>0.38500</td>\n",
       "      <td>0</td>\n",
       "      <td>60</td>\n",
       "      <td>103.323</td>\n",
       "      <td>11.177783</td>\n",
       "      <td>ML Test</td>\n",
       "      <td>0</td>\n",
       "    </tr>\n",
       "    <tr>\n",
       "      <th>6</th>\n",
       "      <td>Satin Jackets</td>\n",
       "      <td>Mirage</td>\n",
       "      <td>Mirage</td>\n",
       "      <td>0.680</td>\n",
       "      <td>0.639</td>\n",
       "      <td>-6.150</td>\n",
       "      <td>0.0329</td>\n",
       "      <td>0.009670</td>\n",
       "      <td>0.0809</td>\n",
       "      <td>0.625</td>\n",
       "      <td>0.05850</td>\n",
       "      <td>0</td>\n",
       "      <td>42</td>\n",
       "      <td>106.008</td>\n",
       "      <td>3.231933</td>\n",
       "      <td>ML Test</td>\n",
       "      <td>1</td>\n",
       "    </tr>\n",
       "    <tr>\n",
       "      <th>7</th>\n",
       "      <td>Post Malone</td>\n",
       "      <td>Stoney (Deluxe)</td>\n",
       "      <td>White Iverson</td>\n",
       "      <td>0.675</td>\n",
       "      <td>0.562</td>\n",
       "      <td>-7.678</td>\n",
       "      <td>0.0352</td>\n",
       "      <td>0.000000</td>\n",
       "      <td>0.0816</td>\n",
       "      <td>0.309</td>\n",
       "      <td>0.23300</td>\n",
       "      <td>1</td>\n",
       "      <td>76</td>\n",
       "      <td>130.098</td>\n",
       "      <td>4.275550</td>\n",
       "      <td>ML Test</td>\n",
       "      <td>0</td>\n",
       "    </tr>\n",
       "  </tbody>\n",
       "</table>\n",
       "</div>"
      ],
      "text/plain": [
       "                 ARTIST                   ALBUM               TRACK_NAME  \\\n",
       "0                   NAV       Emergency Tsunami           Vetement Socks   \n",
       "1             Klingande                   Jubel                    Jubel   \n",
       "2  Two Door Cinema Club         Tourist History  Something Good Can Work   \n",
       "3        Chelsea Cutler     Sleeping With Roses               The Reason   \n",
       "4          Jack Johnson             Upside Down              Upside Down   \n",
       "5      The War On Drugs  A Deeper Understanding      Thinking of a Place   \n",
       "6         Satin Jackets                  Mirage                   Mirage   \n",
       "7           Post Malone         Stoney (Deluxe)            White Iverson   \n",
       "\n",
       "   DANCEABILITY  ENERGY  LOUDNESS  SPEECHINESS  INSTRUMENTALNESS  LIVENESS  \\\n",
       "0         0.948   0.688    -6.026       0.0756          0.000000    0.0818   \n",
       "1         0.698   0.476    -7.459       0.0417          0.238000    0.0542   \n",
       "2         0.648   0.833    -5.321       0.0327          0.000787    0.1780   \n",
       "3         0.654   0.606    -8.576       0.0717          0.000056    0.3100   \n",
       "4         0.792   0.647    -8.314       0.0450          0.000223    0.1320   \n",
       "5         0.481   0.632    -7.117       0.0333          0.081700    0.1160   \n",
       "6         0.680   0.639    -6.150       0.0329          0.009670    0.0809   \n",
       "7         0.675   0.562    -7.678       0.0352          0.000000    0.0816   \n",
       "\n",
       "   VALENCE  ACOUSTICNESS  EXPLICIT  POPULARITY    TEMPO  DURATION_MIN  \\\n",
       "0    0.783       0.08250         1          53  129.946      2.584767   \n",
       "1    0.181       0.18500         0          38  124.986      4.727300   \n",
       "2    0.640       0.00583         0          59  119.935      2.736450   \n",
       "3    0.358       0.09910         1          14   90.058      3.077783   \n",
       "4    0.694       0.25500         0          70  102.477      3.492450   \n",
       "5    0.156       0.38500         0          60  103.323     11.177783   \n",
       "6    0.625       0.05850         0          42  106.008      3.231933   \n",
       "7    0.309       0.23300         1          76  130.098      4.275550   \n",
       "\n",
       "  PLAYLIST  HGR  \n",
       "0  ML Test    0  \n",
       "1  ML Test    1  \n",
       "2  ML Test    1  \n",
       "3  ML Test    0  \n",
       "4  ML Test    1  \n",
       "5  ML Test    0  \n",
       "6  ML Test    1  \n",
       "7  ML Test    0  "
      ]
     },
     "execution_count": 77,
     "metadata": {},
     "output_type": "execute_result"
    }
   ],
   "source": [
    "# new data\n",
    "newData = pd.read_csv('/Users/nik.linnane/Downloads/Spotify/testingData.csv')\n",
    "newData.head(10)"
   ]
  },
  {
   "cell_type": "markdown",
   "metadata": {},
   "source": [
    "<br>**Data Proprocessing**"
   ]
  },
  {
   "cell_type": "code",
   "execution_count": 78,
   "metadata": {},
   "outputs": [
    {
     "name": "stdout",
     "output_type": "stream",
     "text": [
      "X:  (8, 13)\n"
     ]
    }
   ],
   "source": [
    "# cleaning\n",
    "newData['EXPLICIT'] = newData['EXPLICIT'].astype(object)\n",
    "newData = newData.drop(['ALBUM', 'TRACK_NAME', 'PLAYLIST', 'ARTIST'], axis=1)\n",
    "\n",
    "# X and y\n",
    "X_pre = newData.drop(['HGR'], axis=1)\n",
    "y = newData['HGR']\n",
    "\n",
    "# pipeline\n",
    "X = full_pipeline.fit_transform(newData)\n",
    "print('X: ', X.shape)"
   ]
  },
  {
   "cell_type": "markdown",
   "metadata": {},
   "source": [
    "<br>**Predict**"
   ]
  },
  {
   "cell_type": "code",
   "execution_count": 79,
   "metadata": {},
   "outputs": [],
   "source": [
    "# logistic regression\n",
    "logReg_y_scores = logReg.predict_proba(X)[:,1] # prediction probability\n",
    "logReg_threshold = -0.59 # if y_score is higher than this then prediction is True (1)\n",
    "logReg_y_pred = (logReg_y_scores > logReg_threshold) # compares our predictions to the new threshold\n",
    "\n",
    "# decision tree classifier\n",
    "treeClf_y_scores = tree_clf.predict_proba(X)[:,1] # prediction probability\n",
    "treeClf_threshold = 0.33 # if y_score is higher than this then prediction is True (1)\n",
    "treeClf_y_pred = (treeClf_y_scores > treeClf_threshold) # compares our predictions to the new threshold\n",
    "\n",
    "# knn classifier\n",
    "knnClf_y_scores = knn_clf.predict_proba(X)[:,1] # prediction probability\n",
    "knnClf_threshold = 0.64 # if y_score is higher than this then prediction is True (1)\n",
    "knnClf_y_pred = (knnClf_y_scores > knnClf_threshold) # compares our predictions to the new threshold\n",
    "\n",
    "# random forest gridsearch\n",
    "rfClf_y_scores = rf_clf_grid_best.predict_proba(X)[:,1] # prediction probability\n",
    "rfClf_threshold = 0.41 # if y_score is higher than this then prediction is True (1)\n",
    "rfClf_y_pred = (rfClf_y_scores > rfClf_threshold) # compares our predictions to the new threshold"
   ]
  },
  {
   "cell_type": "code",
   "execution_count": 80,
   "metadata": {},
   "outputs": [],
   "source": [
    "newDataProb = pd.DataFrame({'Track': ['Vetement Socks', 'Jubel', 'Something Good Can Work', 'The Reason', 'Upside Down', 'Thinking of a Place', 'Mirage', 'White Iverson'],\n",
    "              'Actual': [y[0], y[1], y[2], y[3], y[4], y[5], y[6], y[7]],\n",
    "              'Logistic Regression Probability': [logReg_y_scores[0], logReg_y_scores[1], logReg_y_scores[2], logReg_y_scores[3], logReg_y_scores[4], logReg_y_scores[5], logReg_y_scores[6], logReg_y_scores[7]],\n",
    "              'Decision Tree Probability': [treeClf_y_scores[0], treeClf_y_scores[1], treeClf_y_scores[2], treeClf_y_scores[3], treeClf_y_scores[4], treeClf_y_scores[5], treeClf_y_scores[6], treeClf_y_scores[7]],\n",
    "              'KNN Probability': [knnClf_y_scores[0], knnClf_y_scores[1], knnClf_y_scores[2], knnClf_y_scores[3], knnClf_y_scores[4], knnClf_y_scores[5], knnClf_y_scores[6], knnClf_y_scores[7]],\n",
    "              'Random Forest Probability': [rfClf_y_scores[0], rfClf_y_scores[1], rfClf_y_scores[2], rfClf_y_scores[3], rfClf_y_scores[4], rfClf_y_scores[5], rfClf_y_scores[6], rfClf_y_scores[7]]})\n",
    "newDataProb = newDataProb.round(2)"
   ]
  },
  {
   "cell_type": "code",
   "execution_count": 81,
   "metadata": {},
   "outputs": [
    {
     "data": {
      "text/html": [
       "<div>\n",
       "<style scoped>\n",
       "    .dataframe tbody tr th:only-of-type {\n",
       "        vertical-align: middle;\n",
       "    }\n",
       "\n",
       "    .dataframe tbody tr th {\n",
       "        vertical-align: top;\n",
       "    }\n",
       "\n",
       "    .dataframe thead th {\n",
       "        text-align: right;\n",
       "    }\n",
       "</style>\n",
       "<table border=\"1\" class=\"dataframe\">\n",
       "  <thead>\n",
       "    <tr style=\"text-align: right;\">\n",
       "      <th></th>\n",
       "      <th>Track</th>\n",
       "      <th>Actual</th>\n",
       "      <th>Logistic Regression Probability</th>\n",
       "      <th>Decision Tree Probability</th>\n",
       "      <th>KNN Probability</th>\n",
       "      <th>Random Forest Probability</th>\n",
       "    </tr>\n",
       "  </thead>\n",
       "  <tbody>\n",
       "    <tr>\n",
       "      <th>0</th>\n",
       "      <td>Vetement Socks</td>\n",
       "      <td>0</td>\n",
       "      <td>0.77</td>\n",
       "      <td>1.00</td>\n",
       "      <td>0.71</td>\n",
       "      <td>0.80</td>\n",
       "    </tr>\n",
       "    <tr>\n",
       "      <th>1</th>\n",
       "      <td>Jubel</td>\n",
       "      <td>1</td>\n",
       "      <td>0.06</td>\n",
       "      <td>0.00</td>\n",
       "      <td>0.00</td>\n",
       "      <td>0.16</td>\n",
       "    </tr>\n",
       "    <tr>\n",
       "      <th>2</th>\n",
       "      <td>Something Good Can Work</td>\n",
       "      <td>1</td>\n",
       "      <td>0.27</td>\n",
       "      <td>0.20</td>\n",
       "      <td>0.33</td>\n",
       "      <td>0.31</td>\n",
       "    </tr>\n",
       "    <tr>\n",
       "      <th>3</th>\n",
       "      <td>The Reason</td>\n",
       "      <td>0</td>\n",
       "      <td>0.62</td>\n",
       "      <td>0.52</td>\n",
       "      <td>1.00</td>\n",
       "      <td>0.50</td>\n",
       "    </tr>\n",
       "    <tr>\n",
       "      <th>4</th>\n",
       "      <td>Upside Down</td>\n",
       "      <td>1</td>\n",
       "      <td>0.72</td>\n",
       "      <td>1.00</td>\n",
       "      <td>0.84</td>\n",
       "      <td>0.41</td>\n",
       "    </tr>\n",
       "    <tr>\n",
       "      <th>5</th>\n",
       "      <td>Thinking of a Place</td>\n",
       "      <td>0</td>\n",
       "      <td>0.18</td>\n",
       "      <td>0.52</td>\n",
       "      <td>0.16</td>\n",
       "      <td>0.20</td>\n",
       "    </tr>\n",
       "    <tr>\n",
       "      <th>6</th>\n",
       "      <td>Mirage</td>\n",
       "      <td>1</td>\n",
       "      <td>0.50</td>\n",
       "      <td>0.52</td>\n",
       "      <td>0.66</td>\n",
       "      <td>0.56</td>\n",
       "    </tr>\n",
       "    <tr>\n",
       "      <th>7</th>\n",
       "      <td>White Iverson</td>\n",
       "      <td>0</td>\n",
       "      <td>0.16</td>\n",
       "      <td>0.08</td>\n",
       "      <td>0.49</td>\n",
       "      <td>0.18</td>\n",
       "    </tr>\n",
       "  </tbody>\n",
       "</table>\n",
       "</div>"
      ],
      "text/plain": [
       "                     Track  Actual  Logistic Regression Probability  \\\n",
       "0           Vetement Socks       0                             0.77   \n",
       "1                    Jubel       1                             0.06   \n",
       "2  Something Good Can Work       1                             0.27   \n",
       "3               The Reason       0                             0.62   \n",
       "4              Upside Down       1                             0.72   \n",
       "5      Thinking of a Place       0                             0.18   \n",
       "6                   Mirage       1                             0.50   \n",
       "7            White Iverson       0                             0.16   \n",
       "\n",
       "   Decision Tree Probability  KNN Probability  Random Forest Probability  \n",
       "0                       1.00             0.71                       0.80  \n",
       "1                       0.00             0.00                       0.16  \n",
       "2                       0.20             0.33                       0.31  \n",
       "3                       0.52             1.00                       0.50  \n",
       "4                       1.00             0.84                       0.41  \n",
       "5                       0.52             0.16                       0.20  \n",
       "6                       0.52             0.66                       0.56  \n",
       "7                       0.08             0.49                       0.18  "
      ]
     },
     "execution_count": 81,
     "metadata": {},
     "output_type": "execute_result"
    }
   ],
   "source": [
    "newDataProb"
   ]
  },
  {
   "cell_type": "markdown",
   "metadata": {},
   "source": [
    "<br> <h2> Conclusion </h2> <blockquote>"
   ]
  },
  {
   "cell_type": "markdown",
   "metadata": {},
   "source": [
    "Although these models are not perfect in deciding whether tracks definitively should or shouldn't be added to <i> Hungry Guys Radio, </i> they do predict the probability that a track fits the current playlist vibe which allows us to prioritize listening and make the decision for ourselves. <br> **Potential future project:** what would also be interesting to do with this data would be to train an unsupervised clustering model to get a better understanding of everyones contributions."
   ]
  }
 ],
 "metadata": {
  "kernelspec": {
   "display_name": "Python 3",
   "language": "python",
   "name": "python3"
  },
  "language_info": {
   "codemirror_mode": {
    "name": "ipython",
    "version": 3
   },
   "file_extension": ".py",
   "mimetype": "text/x-python",
   "name": "python",
   "nbconvert_exporter": "python",
   "pygments_lexer": "ipython3",
   "version": "3.8.3"
  }
 },
 "nbformat": 4,
 "nbformat_minor": 4
}
